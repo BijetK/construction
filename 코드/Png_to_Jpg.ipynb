{
 "cells": [
  {
   "cell_type": "code",
   "execution_count": 1,
   "metadata": {},
   "outputs": [],
   "source": [
    "from PIL import Image\n",
    "from glob import glob\n",
    "\n",
    "pngList = glob('*.png')     # png폴더있는경로 + '/*.png'\n",
    "# 경로설정하기 귀찮을땐 그냥 ipynb파일을 png 있는 폴더에 넣으면 편함....."
   ]
  },
  {
   "cell_type": "code",
   "execution_count": 2,
   "metadata": {},
   "outputs": [
    {
     "data": {
      "text/plain": [
       "3367"
      ]
     },
     "execution_count": 2,
     "metadata": {},
     "output_type": "execute_result"
    }
   ],
   "source": [
    "len(pngList)"
   ]
  },
  {
   "cell_type": "code",
   "execution_count": 3,
   "metadata": {},
   "outputs": [],
   "source": [
    "for pngfile in pngList:\n",
    "    pngname = pngfile.split('.')[0]\n",
    "    jpgname = pngname+'.jpg'\n",
    "    image = Image.open(pngfile)\n",
    "    image.save(jpgname)"
   ]
  }
 ],
 "metadata": {
  "interpreter": {
   "hash": "d9b199ff34f70edd62d98a97be7eeb102c9bba51a62d8c2b56b122f7c6b12dc5"
  },
  "kernelspec": {
   "display_name": "Python 3.10.0 64-bit",
   "language": "python",
   "name": "python3"
  },
  "language_info": {
   "codemirror_mode": {
    "name": "ipython",
    "version": 3
   },
   "file_extension": ".py",
   "mimetype": "text/x-python",
   "name": "python",
   "nbconvert_exporter": "python",
   "pygments_lexer": "ipython3",
   "version": "3.10.0"
  },
  "orig_nbformat": 4
 },
 "nbformat": 4,
 "nbformat_minor": 2
}
