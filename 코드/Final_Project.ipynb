{
  "nbformat": 4,
  "nbformat_minor": 0,
  "metadata": {
    "colab": {
      "name": "Final Project.ipynb",
      "provenance": [],
      "collapsed_sections": [],
      "toc_visible": true
    },
    "kernelspec": {
      "name": "python3",
      "display_name": "Python 3"
    },
    "language_info": {
      "name": "python"
    }
  },
  "cells": [
    {
      "cell_type": "markdown",
      "metadata": {
        "id": "MmNaPrOCA_-M"
      },
      "source": [
        "## Import"
      ]
    },
    {
      "cell_type": "code",
      "metadata": {
        "id": "Vdy5QBRHA-Ls"
      },
      "source": [
        "!pip install pytz > /dev/null\n",
        "!pip install pymysql > /dev/null\n",
        "import json\n",
        "import pymysql\n",
        "from IPython.display import display, Javascript, Image, Audio\n",
        "from google.colab.output import eval_js\n",
        "from base64 import b64decode\n",
        "import cv2\n",
        "import time\n",
        "import numpy as np\n",
        "import pandas as pd\n",
        "from google.colab.patches import cv2_imshow\n",
        "from glob import glob\n",
        "import IPython\n",
        "from IPython.core.display import display\n",
        "from pytz import timezone\n",
        "from datetime import datetime\n",
        "import os\n",
        "import sys\n",
        "import requests\n",
        "import time\n",
        "import datetime as dt"
      ],
      "execution_count": 3,
      "outputs": []
    },
    {
      "cell_type": "code",
      "metadata": {
        "colab": {
          "base_uri": "https://localhost:8080/"
        },
        "id": "14IBYgspBFUH",
        "outputId": "de607d10-6275-428c-8696-0e3a739a6f6e"
      },
      "source": [
        "print(cv2.__version__)"
      ],
      "execution_count": 21,
      "outputs": [
        {
          "output_type": "stream",
          "name": "stdout",
          "text": [
            "4.1.2\n"
          ]
        }
      ]
    },
    {
      "cell_type": "code",
      "metadata": {
        "colab": {
          "base_uri": "https://localhost:8080/"
        },
        "id": "PXVZK9gGHWW6",
        "outputId": "cde437d5-8074-4d47-c3f9-72dec844c6bb"
      },
      "source": [
        "from google.colab import drive\n",
        "drive.mount('/content/drive')"
      ],
      "execution_count": 23,
      "outputs": [
        {
          "output_type": "stream",
          "name": "stdout",
          "text": [
            "Mounted at /content/drive\n"
          ]
        }
      ]
    },
    {
      "cell_type": "markdown",
      "metadata": {
        "id": "5WN5PmB3BCEI"
      },
      "source": [
        "## 함수 정의"
      ]
    },
    {
      "cell_type": "markdown",
      "metadata": {
        "id": "q5kWpdmwBOtL"
      },
      "source": [
        "### 이미지 처리 관련함수"
      ]
    },
    {
      "cell_type": "code",
      "metadata": {
        "id": "utuynJxjH9xw"
      },
      "source": [
        "def yolonet():\n",
        "    weight_file = '/content/drive/MyDrive/최종프로젝트/자료/final/yolov3_training_5classes.weights'\n",
        "    cfg_file = '/content/drive/MyDrive/최종프로젝트/자료/final/yolov3_testing.cfg'\n",
        "\n",
        "    min_confidence = 0.5\n",
        "    # Load Yolo\n",
        "    net = cv2.dnn.readNet(weight_file, cfg_file)\n",
        "    return(net)"
      ],
      "execution_count": 6,
      "outputs": []
    },
    {
      "cell_type": "markdown",
      "metadata": {
        "id": "dUEZni6oD2aK"
      },
      "source": [
        "#### yoloimg : 객체 검출 후 데이터프레임으로 만들어주는 함수"
      ]
    },
    {
      "cell_type": "code",
      "metadata": {
        "id": "0YECwD9lD2aK"
      },
      "source": [
        "def yoloimg(imgfile, net):\n",
        "    name_file = '/content/drive/MyDrive/최종프로젝트/자료/final/obj.names'\n",
        "\n",
        "    min_confidence = 0.5\n",
        "\n",
        "    with open(name_file, 'r') as f:\n",
        "        classes = [line.strip() for line in f.readlines()]\n",
        "    layer_names = net.getLayerNames()\n",
        "    output_layers = [layer_names[i[0] - 1] for i in net.getUnconnectedOutLayers()]\n",
        "\n",
        "    colors = np.random.uniform(0, 255, size=(len(classes), 3))\n",
        "\n",
        "    # 이미지 가져오기\n",
        "    img = imgfile\n",
        "    # img = cv2.resize(img, None, fx=0.4, fy=0.4)\n",
        "    height, width, channels = img.shape\n",
        "    # Detecting objects\n",
        "    blob = cv2.dnn.blobFromImage(img, 0.00392, (416, 416), (0, 0, 0), True, crop=False)\n",
        "    net.setInput(blob)\n",
        "    outs = net.forward(output_layers)\n",
        "    # 정보를 화면에 표시\n",
        "    class_ids = []\n",
        "    confidences = []\n",
        "    boxes = []\n",
        "    for out in outs:\n",
        "        for detection in out:\n",
        "            scores = detection[5:]\n",
        "            class_id = np.argmax(scores)\n",
        "            confidence = scores[class_id]\n",
        "            if confidence > 0.5:\n",
        "                # Object detected\n",
        "                center_x = int(detection[0] * width)\n",
        "                center_y = int(detection[1] * height)\n",
        "                w = int(detection[2] * width)\n",
        "                h = int(detection[3] * height)\n",
        "                # 좌표\n",
        "                x = int(center_x - w / 2)\n",
        "                y = int(center_y - h / 2)\n",
        "                boxes.append([x, y, w, h])\n",
        "                confidences.append(float(confidence))\n",
        "                class_ids.append(class_id)\n",
        "    indexes = cv2.dnn.NMSBoxes(boxes, confidences, 0.5, 0.4)\n",
        "    font = cv2.FONT_HERSHEY_PLAIN\n",
        "\n",
        "    # 객체 인식 이미지 출력\n",
        "    font = cv2.FONT_HERSHEY_PLAIN\n",
        "    for i in range(len(boxes)):\n",
        "        # if i in indexes:\n",
        "            x, y, w, h = boxes[i]\n",
        "            label = str(classes[class_ids[i]])\n",
        "            color = colors[i]\n",
        "            # cv2.rectangle(img, (x, y), (x + w, y + h), color, 2)\n",
        "            cv2.rectangle(img, (x, y), (x + w, y + h), color, 2)\n",
        "            cv2.putText(img, label, (x, y + 30), font, 3, color, 3)\n",
        "\n",
        "    from google.colab.patches import cv2_imshow\n",
        "    cv2_imshow(img)\n",
        "    cv2.waitKey(0)\n",
        "    cv2.destroyAllWindows()\n",
        "\n",
        "    # 각 Class의 개수를 센 후 df에 넣어줌.\n",
        "    countid = []\n",
        "    for i in range(5):\n",
        "        countid.append(class_ids.count(i))\n",
        "    # jpgname = imgfile.split('/')[-1].split('.')[0]\n",
        "    # df = pd.DataFrame({'jpgname':jpgname, 'Person':countid[0], 'Vest':countid[1], 'Helmet' : countid[2], 'NoHelmet' : countid[3], 'NoVest':countid[4]},  index=[0])\n",
        "    df = pd.DataFrame({'Person':countid[0], 'Vest':countid[1], 'Helmet' : countid[2], 'NoHelmet' : countid[3], 'NoVest':countid[4]},  index=[0])\n",
        "    return(df)"
      ],
      "execution_count": 4,
      "outputs": []
    },
    {
      "cell_type": "markdown",
      "metadata": {
        "id": "zJGq1FT8C8B3"
      },
      "source": [
        "#### beep() : 출력 음성 관련된 함수"
      ]
    },
    {
      "cell_type": "code",
      "metadata": {
        "id": "H3MlJo0lDC49"
      },
      "source": [
        "## 함수 안에서는 Ipython의 Audio가 작동을 안해서 이것 저것 찾다보니 나온 임시방편 해결책.... 각각 함수화 시켜서 하면 소리가 잘 나더라고요\n",
        "def beep0():\n",
        "    display(Audio(\"/content/drive/MyDrive/최종프로젝트/코드/음성출력/한명만_서주세요.mp3\", autoplay=True))\n",
        "def beep1():\n",
        "    display(Audio(\"/content/drive/MyDrive/최종프로젝트/코드/음성출력/정상입니다.mp3\", autoplay=True))\n",
        "def beep2():\n",
        "    display(Audio(\"/content/drive/MyDrive/최종프로젝트/코드/음성출력/헬멧_미착용입니다.mp3\", autoplay=True))\n",
        "def beep3():\n",
        "    display(Audio(\"/content/drive/MyDrive/최종프로젝트/코드/음성출력/조끼_미착용입니다.mp3\", autoplay=True))\n",
        "def beep4():\n",
        "    display(Audio(\"/content/drive/MyDrive/최종프로젝트/코드/음성출력/다시_서주세요.mp3\", autoplay=True)) "
      ],
      "execution_count": 7,
      "outputs": []
    },
    {
      "cell_type": "markdown",
      "metadata": {
        "id": "bcpgAQhADQHb"
      },
      "source": [
        "#### audioout(df) : 데이터프레임의 값에 따라 beep 음성을 출력"
      ]
    },
    {
      "cell_type": "code",
      "metadata": {
        "id": "rOrapiy2DWH7"
      },
      "source": [
        "def audioout(df):\n",
        "    if df.Person[0] >= 2:\n",
        "        beep0()\n",
        "    elif df.Person[0] == 1 and df.Helmet[0] == 1 and df.Vest[0]==1:\n",
        "        beep1()\n",
        "    elif df.Person[0] == 1 and df.Helmet[0] == 0 and df.Vest[0]==1:\n",
        "        beep2()\n",
        "    elif df.Person[0] == 1 and df.Helmet[0] == 1 and df.Vest[0] == 0:\n",
        "        beep3()\n",
        "    elif df.Person[0] == 1 and df.Helmet[0] == 0 and df.Vest[0] == 0:\n",
        "        beep4()"
      ],
      "execution_count": 8,
      "outputs": []
    },
    {
      "cell_type": "markdown",
      "metadata": {
        "id": "lrlKijExDVs2"
      },
      "source": [
        "#### take_photo : 웹캠의 사진을 캡쳐 후 photo.jpg로 저장"
      ]
    },
    {
      "cell_type": "code",
      "metadata": {
        "id": "ppdGY5SwDfOB"
      },
      "source": [
        "def take_photo(filename='photo.jpg', quality=0.8):\n",
        "  js = Javascript('''\n",
        "    async function takePhoto(quality) {\n",
        "      const div = document.createElement('div');\n",
        "      const capture = document.createElement('button');\n",
        "      capture.textContent = 'Capture';\n",
        "      div.appendChild(capture);\n",
        "\n",
        "      const video = document.createElement('video');\n",
        "      video.style.display = 'block';\n",
        "      const stream = await navigator.mediaDevices.getUserMedia({video: true});\n",
        "\n",
        "      document.body.appendChild(div);\n",
        "      div.appendChild(video);\n",
        "      video.srcObject = stream;\n",
        "      await video.play();\n",
        "\n",
        "      // Resize the output to fit the video element.\n",
        "      google.colab.output.setIframeHeight(document.documentElement.scrollHeight, true);\n",
        "\n",
        "\n",
        "      const canvas = document.createElement('canvas');\n",
        "      canvas.width = video.videoWidth;\n",
        "      canvas.height = video.videoHeight;\n",
        "      canvas.getContext('2d').drawImage(video, 0, 0);\n",
        "      stream.getVideoTracks()[0].stop();\n",
        "      div.remove();\n",
        "      return canvas.toDataURL('image/jpeg', quality);\n",
        "    }\n",
        "    ''')\n",
        "  display(js)\n",
        "  data = eval_js('takePhoto({})'.format(quality))\n",
        "  binary = b64decode(data.split(',')[1])\n",
        "  with open(filename, 'wb') as f:\n",
        "    f.write(binary)\n",
        "  return filename"
      ],
      "execution_count": 9,
      "outputs": []
    },
    {
      "cell_type": "markdown",
      "metadata": {
        "id": "Jla08Np3DfvS"
      },
      "source": [
        "#### clovaOD : 클로바 OD api 호출"
      ]
    },
    {
      "cell_type": "code",
      "metadata": {
        "id": "ab9b4S3TDlYe"
      },
      "source": [
        "def clovaOD(filename):\n",
        "    client_id = \"2ir1oc6imp\"\n",
        "    client_secret = \"4FIE6xUWDjlFocSUHZw5MjdX1smM733YzIlwBMxk\"\n",
        "    url = \"https://naveropenapi.apigw.ntruss.com/vision-obj/v1/detect\"# // 객체 인식\n",
        "    files = {'image': open(filename, 'rb')}\n",
        "    headers = {'X-NCP-APIGW-API-KEY-ID': client_id, 'X-NCP-APIGW-API-KEY': client_secret }\n",
        "    response = requests.post(url,  files=files, headers=headers)\n",
        "    rescode = response.status_code\n",
        "    if(rescode==200):\n",
        "        return(response.text)\n",
        "    else:\n",
        "        print(\"Error Code:\" + rescode)"
      ],
      "execution_count": 10,
      "outputs": []
    },
    {
      "cell_type": "markdown",
      "metadata": {
        "id": "zklwXjpNDlF-"
      },
      "source": [
        "#### clovaperson : ClovaOD가 찾아낸 사람 수 리턴"
      ]
    },
    {
      "cell_type": "code",
      "metadata": {
        "id": "mWtZ6qJ4BF2I"
      },
      "source": [
        "def clovaperson(filename):\n",
        "    #0 clova를 통해 OD 실행 후\n",
        "    clovaresult = eval(clovaOD(filename))\n",
        "\n",
        "    #1 person의 index값들을 추출하기\n",
        "    person_index = []\n",
        "    indexscore = []\n",
        "    nameList = clovaresult['predictions'][0]['detection_names']\n",
        "    scorelist = clovaresult['predictions'][0]['detection_scores']\n",
        "    count = 0\n",
        "    for i in range(len(nameList)):\n",
        "        if nameList[i] == 'person':\n",
        "            person_index.append(i)\n",
        "\n",
        "    #2 person_index에 맞는 신뢰도를 추출  \n",
        "    for index in person_index:\n",
        "        indexscore.append(scorelist[index])\n",
        "\n",
        "    #3 indexscore에서 점수가 0.85 이상인 것들의 개수를 파악\n",
        "    for score in indexscore:\n",
        "        if score >= 0.85:\n",
        "            count += 1\n",
        "    return(count)"
      ],
      "execution_count": 11,
      "outputs": []
    },
    {
      "cell_type": "markdown",
      "metadata": {
        "id": "fbDqSUcaBsnu"
      },
      "source": [
        "### sql 관련 함수"
      ]
    },
    {
      "cell_type": "markdown",
      "metadata": {
        "id": "J5Y_TafvEpe3"
      },
      "source": [
        "#### sql_conn(jsonfile) : sql 서버에 연결  <- 황미님 json으로 접속"
      ]
    },
    {
      "cell_type": "code",
      "metadata": {
        "id": "10m5YuVMEris"
      },
      "source": [
        "def sql_conn(jsonfile):\n",
        "    with open(jsonfile) as fp:\n",
        "        config_str = fp.read()\n",
        "    config = json.loads(config_str)\n",
        "\n",
        "    conn = pymysql.connect(\n",
        "        host = config['host'],\n",
        "        user = config['user'],\n",
        "        password = config['password'],\n",
        "        database = config['database'],\n",
        "        port = config['port']\n",
        "    )\n",
        "\n",
        "    return(conn)"
      ],
      "execution_count": 12,
      "outputs": []
    },
    {
      "cell_type": "markdown",
      "metadata": {
        "id": "WvPaxabQE5i8"
      },
      "source": [
        "#### sqlCreateTable(conn) : sql에 테이블을 생성\n",
        "- table name : safety"
      ]
    },
    {
      "cell_type": "code",
      "metadata": {
        "id": "jIRvRaHrE82I"
      },
      "source": [
        "def sqlCreateTable(conn):\n",
        "    cur = conn.cursor()\n",
        "    sql_create_table = '''\n",
        "        create table if not exists safety ( \n",
        "            year char(4) not null, \n",
        "            month char(2) not null, \n",
        "            day varchar(2) not null,\n",
        "            hour varchar(2) not null,\n",
        "            minute varchar(2) not null,\n",
        "            second varchar(2) not null,\n",
        "            Person varchar(1) not null,\n",
        "            Vest varchar(1) not null,\n",
        "            Helmet varchar(1) not null,\n",
        "            NoHelmet varchar(1) not null,\n",
        "            NoVest varchar(1) not null,\n",
        "            reg_date datetime default current_timestamp         \n",
        "        );\n",
        "    '''\n",
        "\n",
        "    cur.execute(sql_create_table)"
      ],
      "execution_count": 13,
      "outputs": []
    },
    {
      "cell_type": "markdown",
      "metadata": {
        "id": "Vft40FmoEBuj"
      },
      "source": [
        "#### insert_sql(df) : sql 테이블에 결과값을 입력"
      ]
    },
    {
      "cell_type": "code",
      "metadata": {
        "id": "ctGYC9znEFM_"
      },
      "source": [
        "def insert_sql(df):\n",
        "    cur = conn.cursor()\n",
        "    Person = df.Person[0]\n",
        "    Vest = df.Vest[0]\n",
        "    Helmet = df.Helmet[0]\n",
        "    NoHelmet = df.NoHelmet[0]\n",
        "    NoVest = df.NoVest[0]\n",
        "    year = df.year[0]\n",
        "    month = df.month[0]\n",
        "    day = df.day[0]\n",
        "    hour = df.hour[0]\n",
        "    minute = df.minute[0]\n",
        "    second = df.second[0]\n",
        "    insert_code = f'INSERT INTO safety(year, month, day, hour, minute, second, Person, Vest, Helmet, NoHelmet, NoVest) VALUES({year}, {month}, {day}, {hour}, {minute}, {second}, {Person}, {Vest}, {Helmet}, {NoHelmet}, {NoVest});'\n",
        "    sql_insert = insert_code\n",
        "    cur.execute(sql_insert)\n",
        "    conn.commit()"
      ],
      "execution_count": 14,
      "outputs": []
    },
    {
      "cell_type": "markdown",
      "metadata": {
        "id": "qTrk81KpELRd"
      },
      "source": [
        "#### sqltoDF() : sql 데이터를 불러와서 데이터프레임으로 만들기"
      ]
    },
    {
      "cell_type": "code",
      "metadata": {
        "id": "pCxVYw0PEWlW"
      },
      "source": [
        "def sqltoDF():\n",
        "    sql_select = '''\n",
        "            SELECT DATE_FORMAT(reg_date, '%Y-%m-%d %H:%i:%s') AS reg_date, year, month, day, hour, minute, second, Person, Vest, Helmet, NoHelmet, NoVest \n",
        "                FROM safety\n",
        "                ORDER BY reg_date;\n",
        "    '''\n",
        "\n",
        "    cur = conn.cursor()\n",
        "    cur.execute(sql_select)\n",
        "    rows = cur.fetchall()         # fetchall\n",
        "    rows\n",
        "    len(rows)\n",
        "\n",
        "    years = []\n",
        "    months = []\n",
        "    days = []\n",
        "    hours = []\n",
        "    minutes = []\n",
        "    seconds = []\n",
        "    Persons = []\n",
        "    Vests = []\n",
        "    Helmets = []\n",
        "    NoHelmets = []\n",
        "    NoVests = []\n",
        "\n",
        "    for i in range(len(rows)):\n",
        "        years.append(rows[i][1])\n",
        "        months.append(rows[i][2])\n",
        "        days.append(rows[i][3])\n",
        "        hours.append(rows[i][4])\n",
        "        minutes.append(rows[i][5])\n",
        "        seconds.append(rows[i][6])\n",
        "        Persons.append(rows[i][7])\n",
        "        Vests.append(rows[i][8])\n",
        "        Helmets.append(rows[i][9])\n",
        "        NoHelmets.append(rows[i][10])\n",
        "        NoVests.append(rows[i][11])\n",
        "\n",
        "    sqldf = pd.DataFrame(data={'year' : years, 'month' : months, 'day' : days, 'hour' : hours, 'minute' : minutes, 'second' : seconds, 'Person' : Persons, 'Vest' : Vests, 'Helmet' : Helmets, 'NoHelmet' : NoHelmets, 'NoVest' : NoVests})\n",
        "    return(sqldf)"
      ],
      "execution_count": 15,
      "outputs": []
    },
    {
      "cell_type": "markdown",
      "metadata": {
        "id": "dk2NKioxFhhi"
      },
      "source": [
        "### 데이터 통계 관련 함수"
      ]
    },
    {
      "cell_type": "markdown",
      "metadata": {
        "id": "VJFfy6JtEXYM"
      },
      "source": [
        "#### cal_hel, cal_vest : "
      ]
    },
    {
      "cell_type": "code",
      "metadata": {
        "id": "td-ecdwVBFwZ"
      },
      "source": [
        "def cal_hel(row):\n",
        "  if row.Helmet == row.Person == 0 :               # 1) 헬멧 객체와 사람객체가 0인 경우 미표기\n",
        "    return '-'\n",
        "  else:                                            # 2) 사람 >= 헬멧 인 경우 헬멧/사람*100 으로 착용률 계산\n",
        "    return row.Helmet / row.Person * 100\n",
        "\n",
        "\n",
        "def cal_vest(row):\n",
        "  if row.Vest == row.Person == 0 :                # 1) 조끼 객체와 사람객체가 0인 경우 미표기\n",
        "    return '-'\n",
        "  else:                                           # 2) 사람 >= 조끼 인 경우 조끼/사람*100 으로 착용률 계산\n",
        "    return row.Vest / row.Person * 100"
      ],
      "execution_count": 16,
      "outputs": []
    },
    {
      "cell_type": "markdown",
      "metadata": {
        "id": "yVu_oD-nUtyl"
      },
      "source": [
        "#### DayResult(Y, M, D) : 원하는 날의 통계를 내고 구글드라이브에 csv 저장\n",
        "- Ex) (Y,M,D) = (2021,01,01)\n",
        "- print를 넣어도 되고 안넣어도 되고"
      ]
    },
    {
      "cell_type": "code",
      "metadata": {
        "id": "TpLOWIAuVAnx"
      },
      "source": [
        "def DayResult(Y, M, D):\n",
        "    readfilename = f'df_safety_record_{Y}_{M}_{D}.csv'\n",
        "    df = pd.read_csv(f'/content/drive/MyDrive/최종프로젝트/자료/SafetyRecord/{readfilename}')\n",
        "    \n",
        "    day = dt.datetime(Y,M,D) # today 2021-01-01 가정\n",
        "    \n",
        "    y = day.year\n",
        "    m = day.month\n",
        "    d = day.day\n",
        "\n",
        "    # 전날 시간대별 헬멧/조끼 평균 착용률\n",
        "    df_result = df[(df.year == y) & (df.month == m) & (df.day == d)].copy()\n",
        "    df_result[['헬멧착용률(%)']] = df_result.apply(cal_hel, axis=1)\n",
        "    df_result[['조끼착용률(%)']] = df_result.apply(cal_vest, axis=1)\n",
        "    df_result.rename(columns = {'year':'연도', 'month':'월', 'day':'일', 'hour':'시간'}, inplace=True)\n",
        "    df_result = df_result[['연도', '월', '일', '시간', '헬멧착용률(%)', '조끼착용률(%)']].groupby(['연도', '월', '일', '시간']).mean().round(1)\n",
        "    print(df_result) # 넣어도 되고 안넣어도 되고\n",
        "    filename = f'df_result_{Y}_{M}_{D}.csv'\n",
        "    df_result.to_csv(f'/content/drive/MyDrive/최종프로젝트/자료/대시보드/{filename}')\n",
        "    return(df_result)"
      ],
      "execution_count": 40,
      "outputs": []
    },
    {
      "cell_type": "markdown",
      "metadata": {
        "id": "vxQ9kl9zCRm8"
      },
      "source": [
        "### 실행함수"
      ]
    },
    {
      "cell_type": "code",
      "metadata": {
        "id": "SZZMZpp_BFtk"
      },
      "source": [
        "def SafetyDetection():\n",
        "    net = yolonet()\n",
        "    while True: # 몇번 동작할 것인지.\n",
        "        if datetime.now(timezone('Asia/Seoul')).minute<6:  # 실제 사용에서는 datetime.now(timezone('Asia/Seoul')).hour < 18 으로 해서 오후 6시 정각까지만 작동하도록 하면 됨\n",
        "            time.sleep(3)   # 몇초 단위로 캡쳐할 것인지 (실험용으로 3초로 해놨습니다!) \n",
        "            take_photo()\n",
        "            clovaperson('photo.jpg')\n",
        "            frame = cv2.imread('photo.jpg') # 캡쳐한 이미지를 openCV형식으로 전환\n",
        "            df = yoloimg(frame, net)\n",
        "            today = datetime.now(timezone('Asia/Seoul'))\n",
        "            df['year'] = today.year\n",
        "            df['month'] = today.month\n",
        "            df['day'] = today.day\n",
        "            df['hour'] = today.hour\n",
        "            df['minute'] = today.minute\n",
        "            df['second'] = today.second\n",
        "            df['Person'][0] = clovaperson('photo.jpg') # df의 Person을 CLOVA OD가 파악한 사람수로 바꿔주기\n",
        "            insert_sql(df)\n",
        "            audioout(df)\n",
        "        else:# 6시 정각 이후에는 데이터를 불러온 뒤 df 파일로 만들고 그걸 바탕으로 통계를 내야함\n",
        "            # 1. 데이터를 불러온 뒤 데이터프레임으로 만들기\n",
        "            safety = sqltoDF()\n",
        "            # 2. 헬멧 + 노헬멧 >= 사람 인 경우 사람=헬멧+노헬멧, 조끼 + 노조끼 >= 사람 인 경우 사람=조끼+노조끼\n",
        "            df = safety.copy()\n",
        "            df['Person'] =df.apply(lambda row: row['Helmet'] + row['NoHelmet'] if row['Helmet'] + row['NoHelmet'] >= row['Person'] else row['Person'],axis=1)\n",
        "            df['Person'] =df.apply(lambda row: row['Vest'] + row['NoVest'] if row['Vest'] + row['NoVest'] >= row['Person'] else row['Person'],axis=1)\n",
        "            Y = today.year\n",
        "            M = today.month\n",
        "            D = today.day\n",
        "            filename = f'df_safety_record_{Y}_{M}_{D}.csv'\n",
        "            df.to_csv(f'/content/drive/MyDrive/최종프로젝트/자료/SafetyRecord/{filename}')\n",
        "            return(df)\n",
        "            break"
      ],
      "execution_count": 39,
      "outputs": []
    },
    {
      "cell_type": "markdown",
      "metadata": {
        "id": "wqJzSenxFmKB"
      },
      "source": [
        "# `**최종프로젝트 순서**`\n",
        "\n",
        "1. sql 서버에 연결 : conn = sql_conn(jsonfile)\n",
        "2. sql 테이블 생성 : sqlCreateTable(conn)\n",
        "3. 실행함수 실행 : SafetyDetection()\n",
        "4. 실햄함수 후 나온 df로 통계자료 만들기"
      ]
    },
    {
      "cell_type": "markdown",
      "metadata": {
        "id": "p-Zn2R9mYTbY"
      },
      "source": [
        "#### 1. 매일 오후 18시까지 일정간격으로 캡쳐후 정보를 모으고, 6시가 지나면 그날의 기록을 CSV 파일로 저장\n",
        "- ....을 해야하나? 그냥 sql에 보관하는것 외에 csv로 저장해서 보관해야 하나...?\n",
        "    - 한다면 데이터 백업용이라고 생각하면 되려나....?\n",
        "    - sql에는 모든날의 데이터, csv 파일은 각각 날의 데이터\n",
        "    - 하루치 기록 조회하기는 편하지만 주별, 월별, 분기별 기록에는 쓸모가 없...\n",
        "    - 그냥 통계때 불러오기 할 때 조건에 맞는 데이터만 불러오도록 시키는게 나으려나\n"
      ]
    },
    {
      "cell_type": "code",
      "metadata": {
        "id": "9ToSNijHGA3s"
      },
      "source": [
        "# 1. sql 서버에 연결\n",
        "conn = sql_conn('/content/drive/MyDrive/최종프로젝트/자료/mysql.json')\n",
        "\n",
        "# 2. sql 테이블이 존재하지 않을 시 테이블 생성\n",
        "sqlCreateTable(conn)\n",
        "\n",
        "# 3. 실행함수 실행\n",
        "df = SafetyDetection()\n",
        "\n",
        "# 4. 원하는 날의 통계 (Y,M,D 숫자 입력 필요)\n",
        "DayBefore1(df, 2021, 12, 02)"
      ],
      "execution_count": null,
      "outputs": []
    },
    {
      "cell_type": "markdown",
      "metadata": {
        "id": "nLe8xHRtYgY8"
      },
      "source": [
        "#### 2. 원하는 날의 CSV 파일을 불러온 뒤"
      ]
    }
  ]
}