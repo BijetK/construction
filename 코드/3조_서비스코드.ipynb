{
  "nbformat": 4,
  "nbformat_minor": 0,
  "metadata": {
    "colab": {
      "name": "멀티캠퍼스_3조(1207).ipynb",
      "provenance": [],
      "collapsed_sections": [
        "q5kWpdmwBOtL",
        "J5Y_TafvEpe3",
        "dk2NKioxFhhi"
      ]
    },
    "kernelspec": {
      "name": "python3",
      "display_name": "Python 3"
    },
    "language_info": {
      "name": "python"
    }
  },
  "cells": [
    {
      "cell_type": "markdown",
      "metadata": {
        "id": "MmNaPrOCA_-M"
      },
      "source": [
        "## Import"
      ]
    },
    {
      "cell_type": "code",
      "metadata": {
        "id": "0Ck0YTfrLSwu"
      },
      "source": [
        "!pip install pytz > /dev/null\n",
        "!pip install pymysql > /dev/null"
      ],
      "execution_count": null,
      "outputs": []
    },
    {
      "cell_type": "code",
      "metadata": {
        "id": "Vdy5QBRHA-Ls"
      },
      "source": [
        "import json\n",
        "import pymysql\n",
        "from IPython.display import display, Javascript, Image, Audio\n",
        "from google.colab.output import eval_js\n",
        "from base64 import b64decode\n",
        "import cv2\n",
        "import time\n",
        "import numpy as np\n",
        "import pandas as pd\n",
        "from google.colab.patches import cv2_imshow\n",
        "from glob import glob\n",
        "import IPython\n",
        "from IPython.core.display import display\n",
        "from pytz import timezone\n",
        "from datetime import datetime\n",
        "import os\n",
        "import sys\n",
        "import requests\n",
        "import time\n",
        "import datetime as dt\n",
        "from PIL import Image"
      ],
      "execution_count": 51,
      "outputs": []
    },
    {
      "cell_type": "code",
      "metadata": {
        "colab": {
          "base_uri": "https://localhost:8080/"
        },
        "id": "PXVZK9gGHWW6",
        "outputId": "56940f51-b00b-4622-ed7c-885d381703e9"
      },
      "source": [
        "from google.colab import drive\n",
        "drive.mount('/content/drive')"
      ],
      "execution_count": 2,
      "outputs": [
        {
          "output_type": "stream",
          "name": "stdout",
          "text": [
            "Mounted at /content/drive\n"
          ]
        }
      ]
    },
    {
      "cell_type": "markdown",
      "metadata": {
        "id": "5WN5PmB3BCEI"
      },
      "source": [
        "## 함수 정의"
      ]
    },
    {
      "cell_type": "markdown",
      "metadata": {
        "id": "q5kWpdmwBOtL"
      },
      "source": [
        "### 이미지 처리 관련함수"
      ]
    },
    {
      "cell_type": "markdown",
      "metadata": {
        "id": "2svmrClgmheq"
      },
      "source": [
        "#### yolonet()"
      ]
    },
    {
      "cell_type": "code",
      "metadata": {
        "id": "utuynJxjH9xw"
      },
      "source": [
        "def yolonet():\n",
        "    weight_file = '/content/drive/MyDrive/최종프로젝트/자료/final/yolov3_training_5classes.weights'\n",
        "    cfg_file = '/content/drive/MyDrive/최종프로젝트/자료/final/yolov3_testing.cfg'\n",
        "\n",
        "    min_confidence = 0.5\n",
        "    # Load Yolo\n",
        "    net = cv2.dnn.readNet(weight_file, cfg_file)\n",
        "    return(net)"
      ],
      "execution_count": 79,
      "outputs": []
    },
    {
      "cell_type": "markdown",
      "metadata": {
        "id": "dUEZni6oD2aK"
      },
      "source": [
        "#### yoloimg : 객체 검출 후 데이터프레임으로 만들어주는 함수"
      ]
    },
    {
      "cell_type": "code",
      "metadata": {
        "id": "0YECwD9lD2aK"
      },
      "source": [
        "def yoloimg(imgfile, net):\n",
        "    name_file = '/content/drive/MyDrive/최종프로젝트/자료/final/obj.names'\n",
        "\n",
        "    min_confidence = 0.5\n",
        "\n",
        "    with open(name_file, 'r') as f:\n",
        "        classes = [line.strip() for line in f.readlines()]\n",
        "    layer_names = net.getLayerNames()\n",
        "    output_layers = [layer_names[i[0] - 1] for i in net.getUnconnectedOutLayers()]\n",
        "\n",
        "    colors = np.random.uniform(0, 255, size=(len(classes), 3))\n",
        "\n",
        "    # 이미지 가져오기\n",
        "    img = imgfile\n",
        "    # img = cv2.resize(img, None, fx=0.4, fy=0.4)\n",
        "    height, width, channels = img.shape\n",
        "    # Detecting objects\n",
        "    blob = cv2.dnn.blobFromImage(img, 0.00392, (416, 416), (0, 0, 0), True, crop=False)\n",
        "    net.setInput(blob)\n",
        "    outs = net.forward(output_layers)\n",
        "    # 정보를 화면에 표시\n",
        "    class_ids = []\n",
        "    confidences = []\n",
        "    boxes = []\n",
        "    for out in outs:\n",
        "        for detection in out:\n",
        "            scores = detection[5:]\n",
        "            class_id = np.argmax(scores)\n",
        "            confidence = scores[class_id]\n",
        "            if confidence > 0.5:\n",
        "                # Object detected\n",
        "                center_x = int(detection[0] * width)\n",
        "                center_y = int(detection[1] * height)\n",
        "                w = int(detection[2] * width)\n",
        "                h = int(detection[3] * height)\n",
        "                # 좌표\n",
        "                x = int(center_x - w / 2)\n",
        "                y = int(center_y - h / 2)\n",
        "                boxes.append([x, y, w, h])\n",
        "                confidences.append(float(confidence))\n",
        "                class_ids.append(class_id)\n",
        "    indexes = cv2.dnn.NMSBoxes(boxes, confidences, 0.5, 0.4)\n",
        "    font = cv2.FONT_HERSHEY_PLAIN\n",
        "\n",
        "    # 객체 인식 이미지 출력\n",
        "    font = cv2.FONT_HERSHEY_PLAIN\n",
        "    for i in range(len(boxes)):\n",
        "        # if i in indexes:\n",
        "            x, y, w, h = boxes[i]\n",
        "            label = str(classes[class_ids[i]])\n",
        "            color = colors[i]\n",
        "            # cv2.rectangle(img, (x, y), (x + w, y + h), color, 2)\n",
        "            cv2.rectangle(img, (x, y), (x + w, y + h), color, 2)\n",
        "            cv2.putText(img, label, (x, y + 30), font, 3, color, 3)\n",
        "\n",
        "    from google.colab.patches import cv2_imshow\n",
        "    cv2_imshow(img)\n",
        "    cv2.waitKey(0)\n",
        "    cv2.destroyAllWindows()\n",
        "\n",
        "    # 각 Class의 개수를 센 후 df에 넣어줌.\n",
        "    countid = []\n",
        "    for i in range(5):\n",
        "        countid.append(class_ids.count(i))\n",
        "    # jpgname = imgfile.split('/')[-1].split('.')[0]\n",
        "    # df = pd.DataFrame({'jpgname':jpgname, 'Person':countid[0], 'Vest':countid[1], 'Helmet' : countid[2], 'NoHelmet' : countid[3], 'NoVest':countid[4]},  index=[0])\n",
        "    df = pd.DataFrame({'Person':countid[0], 'Vest':countid[1], 'Helmet' : countid[2], 'NoHelmet' : countid[3], 'NoVest':countid[4]},  index=[0])\n",
        "    return(df)"
      ],
      "execution_count": 80,
      "outputs": []
    },
    {
      "cell_type": "markdown",
      "metadata": {
        "id": "zJGq1FT8C8B3"
      },
      "source": [
        "#### beep() : 출력 음성 관련된 함수"
      ]
    },
    {
      "cell_type": "code",
      "metadata": {
        "id": "H3MlJo0lDC49"
      },
      "source": [
        "## 함수 안에서는 Ipython의 Audio가 작동을 안해서 이것 저것 찾다보니 나온 임시방편 해결책.... 각각 함수화 시켜서 하면 소리가 잘 나더라고요\n",
        "def beep0():\n",
        "    display(Audio(\"/content/drive/MyDrive/최종프로젝트/코드/음성출력/한명만_서주세요.mp3\", autoplay=True))\n",
        "def beep1():\n",
        "    display(Audio(\"/content/drive/MyDrive/최종프로젝트/코드/음성출력/정상입니다.mp3\", autoplay=True))\n",
        "def beep2():\n",
        "    display(Audio(\"/content/drive/MyDrive/최종프로젝트/코드/음성출력/헬멧_미착용입니다.mp3\", autoplay=True))\n",
        "def beep3():\n",
        "    display(Audio(\"/content/drive/MyDrive/최종프로젝트/코드/음성출력/조끼_미착용입니다.mp3\", autoplay=True))\n",
        "def beep4():\n",
        "    display(Audio(\"/content/drive/MyDrive/최종프로젝트/코드/음성출력/다시_서주세요.mp3\", autoplay=True)) \n",
        "def beepRe():\n",
        "    display(Audio(\"/content/drive/MyDrive/최종프로젝트/코드/음성출력/발자국_위에_서주세요.mp3\", autoplay=True)) "
      ],
      "execution_count": 81,
      "outputs": []
    },
    {
      "cell_type": "markdown",
      "metadata": {
        "id": "bcpgAQhADQHb"
      },
      "source": [
        "#### audioout(df) : 데이터프레임의 값에 따라 beep 음성을 출력"
      ]
    },
    {
      "cell_type": "code",
      "metadata": {
        "id": "rOrapiy2DWH7"
      },
      "source": [
        "def audioout(df):\n",
        "    if df.Person[0] >= 2:\n",
        "        beep0()\n",
        "    elif df.Person[0] == 1 and df.Helmet[0] == 1 and df.Vest[0]==1:\n",
        "        beep1()\n",
        "    elif df.Person[0] == 1 and df.Helmet[0] == 0 and df.Vest[0]==1:\n",
        "        beep2()\n",
        "    elif df.Person[0] == 1 and df.Helmet[0] == 1 and df.Vest[0] == 0:\n",
        "        beep3()\n",
        "    elif df.Person[0] == 1 and df.Helmet[0] == 0 and df.Vest[0] == 0:\n",
        "        beep4()"
      ],
      "execution_count": 82,
      "outputs": []
    },
    {
      "cell_type": "markdown",
      "metadata": {
        "id": "lrlKijExDVs2"
      },
      "source": [
        "#### take_photo : 웹캠의 사진을 캡쳐 후 photo.jpg로 저장"
      ]
    },
    {
      "cell_type": "code",
      "metadata": {
        "id": "ppdGY5SwDfOB"
      },
      "source": [
        "def take_photo(filename='photo.jpg', quality=0.8):\n",
        "  js = Javascript('''\n",
        "    async function takePhoto(quality) {\n",
        "      const div = document.createElement('div');\n",
        "      const capture = document.createElement('button');\n",
        "      capture.textContent = 'Capture';\n",
        "      div.appendChild(capture);\n",
        "\n",
        "      const video = document.createElement('video');\n",
        "      video.style.display = 'block';\n",
        "      const stream = await navigator.mediaDevices.getUserMedia({video: true});\n",
        "\n",
        "      document.body.appendChild(div);\n",
        "      div.appendChild(video);\n",
        "      video.srcObject = stream;\n",
        "      await video.play();\n",
        "\n",
        "      // Resize the output to fit the video element.\n",
        "      google.colab.output.setIframeHeight(document.documentElement.scrollHeight, true);\n",
        "\n",
        "\n",
        "      const canvas = document.createElement('canvas');\n",
        "      canvas.width = video.videoWidth;\n",
        "      canvas.height = video.videoHeight;\n",
        "      canvas.getContext('2d').drawImage(video, 0, 0);\n",
        "      stream.getVideoTracks()[0].stop();\n",
        "      div.remove();\n",
        "      return canvas.toDataURL('image/jpeg', quality);\n",
        "    }\n",
        "    ''')\n",
        "  display(js)\n",
        "  data = eval_js('takePhoto({})'.format(quality))\n",
        "  binary = b64decode(data.split(',')[1])\n",
        "  with open(filename, 'wb') as f:\n",
        "    f.write(binary)\n",
        "  return filename"
      ],
      "execution_count": 83,
      "outputs": []
    },
    {
      "cell_type": "markdown",
      "metadata": {
        "id": "Jla08Np3DfvS"
      },
      "source": [
        "#### clovaOD : 클로바 OD api 호출"
      ]
    },
    {
      "cell_type": "code",
      "metadata": {
        "id": "ab9b4S3TDlYe"
      },
      "source": [
        "def clovaOD(filename):\n",
        "    client_id = \"2ir1oc6imp\"\n",
        "    client_secret = \"4FIE6xUWDjlFocSUHZw5MjdX1smM733YzIlwBMxk\"\n",
        "    url = \"https://naveropenapi.apigw.ntruss.com/vision-obj/v1/detect\"# // 객체 인식\n",
        "    files = {'image': open(filename, 'rb')}\n",
        "    headers = {'X-NCP-APIGW-API-KEY-ID': client_id, 'X-NCP-APIGW-API-KEY': client_secret }\n",
        "    response = requests.post(url,  files=files, headers=headers)\n",
        "    rescode = response.status_code\n",
        "    if(rescode==200):\n",
        "        return(response.text)\n",
        "    else:\n",
        "        print(\"Error Code:\" + rescode)"
      ],
      "execution_count": 84,
      "outputs": []
    },
    {
      "cell_type": "markdown",
      "metadata": {
        "id": "zklwXjpNDlF-"
      },
      "source": [
        "#### clovaperson : ClovaOD가 찾아낸 사람 수 리턴"
      ]
    },
    {
      "cell_type": "code",
      "metadata": {
        "id": "mWtZ6qJ4BF2I"
      },
      "source": [
        "def clovaperson(filename):\n",
        "    #0 clova를 통해 OD 실행 후\n",
        "    clovaresult = eval(clovaOD(filename))\n",
        "\n",
        "    #1 person의 index값들을 추출하기\n",
        "    person_index = []\n",
        "    indexscore = []\n",
        "    nameList = clovaresult['predictions'][0]['detection_names']\n",
        "    scorelist = clovaresult['predictions'][0]['detection_scores']\n",
        "    count = 0\n",
        "    for i in range(len(nameList)):\n",
        "        if nameList[i] == 'person':\n",
        "            person_index.append(i)\n",
        "\n",
        "    #2 person_index에 맞는 신뢰도를 추출  \n",
        "    for index in person_index:\n",
        "        indexscore.append(scorelist[index])\n",
        "\n",
        "    #3 indexscore에서 점수가 0.90 이상인 것들의 개수를 파악\n",
        "    for score in indexscore:\n",
        "        if score >= 0.90:\n",
        "            count += 1\n",
        "    return(count)"
      ],
      "execution_count": 85,
      "outputs": []
    },
    {
      "cell_type": "markdown",
      "metadata": {
        "id": "fbDqSUcaBsnu"
      },
      "source": [
        "### sql 관련 함수"
      ]
    },
    {
      "cell_type": "markdown",
      "metadata": {
        "id": "J5Y_TafvEpe3"
      },
      "source": [
        "#### sql_conn(jsonfile) : sql 서버에 연결"
      ]
    },
    {
      "cell_type": "code",
      "metadata": {
        "id": "10m5YuVMEris"
      },
      "source": [
        "def sql_conn(jsonfile):\n",
        "    with open(jsonfile) as fp:\n",
        "        config_str = fp.read()\n",
        "    config = json.loads(config_str)\n",
        "\n",
        "    conn = pymysql.connect(\n",
        "        host = config['host'],\n",
        "        user = config['user'],\n",
        "        password = config['password'],\n",
        "        database = config['database'],\n",
        "        port = config['port']\n",
        "    )\n",
        "\n",
        "    return(conn)"
      ],
      "execution_count": 86,
      "outputs": []
    },
    {
      "cell_type": "markdown",
      "metadata": {
        "id": "WvPaxabQE5i8"
      },
      "source": [
        "#### sqlCreateTable(conn) : sql에 테이블을 생성\n",
        "- table name : safety"
      ]
    },
    {
      "cell_type": "code",
      "metadata": {
        "id": "jIRvRaHrE82I"
      },
      "source": [
        "def sqlCreateTable(conn):\n",
        "    cur = conn.cursor()\n",
        "    sql_create_table = '''\n",
        "        create table if not exists safety1( \n",
        "            year int(4) not null, \n",
        "            month int(2) not null, \n",
        "            day int(2) not null,\n",
        "            hour int(2) unsigned zerofill,\n",
        "            minute int(2) unsigned zerofill,\n",
        "            second int(2) unsigned zerofill,\n",
        "            Person int(2) not null,\n",
        "            Vest int(2) not null,\n",
        "            Helmet int(2) not null,\n",
        "            NoHelmet int(2) not null,\n",
        "            NoVest int(2) not null,\n",
        "            imagepath varchar(80) not null       \n",
        "        );\n",
        "    '''\n",
        "\n",
        "    cur.execute(sql_create_table)"
      ],
      "execution_count": 125,
      "outputs": []
    },
    {
      "cell_type": "markdown",
      "metadata": {
        "id": "Vft40FmoEBuj"
      },
      "source": [
        "#### insert_sql(df) : sql 테이블에 결과값을 입력"
      ]
    },
    {
      "cell_type": "code",
      "metadata": {
        "id": "ctGYC9znEFM_"
      },
      "source": [
        "def insert_sql(df, imagepath):\n",
        "    cur = conn.cursor()\n",
        "    Person = df.Person[0]\n",
        "    Vest = df.Vest[0]\n",
        "    Helmet = df.Helmet[0]\n",
        "    NoHelmet = df.NoHelmet[0]\n",
        "    NoVest = df.NoVest[0]\n",
        "    year = df.year[0]\n",
        "    month = df.month[0]\n",
        "    day = df.day[0]\n",
        "    hour = df.hour[0]\n",
        "    minute = df.minute[0]\n",
        "    second = df.second[0]\n",
        "    insert_code = f'INSERT INTO safety1(year, month, day, hour, minute, second, Person, Vest, Helmet, NoHelmet, NoVest, imagepath) VALUES({year}, {month}, {day}, {hour}, {minute}, {second}, {Person}, {Vest}, {Helmet}, {NoHelmet}, {NoVest}, {str(imagepath)});'\n",
        "    sql_insert = insert_code\n",
        "    cur.execute(sql_insert)\n",
        "    conn.commit()"
      ],
      "execution_count": 127,
      "outputs": []
    },
    {
      "cell_type": "markdown",
      "metadata": {
        "id": "qTrk81KpELRd"
      },
      "source": [
        "#### sqltoDF() : sql 데이터를 불러와서 데이터프레임으로 만들기"
      ]
    },
    {
      "cell_type": "code",
      "metadata": {
        "id": "pCxVYw0PEWlW"
      },
      "source": [
        "def sqltoDF():\n",
        "    sql_select = '''\n",
        "            SELECT DATE_FORMAT(reg_date, '%Y-%m-%d %H:%i:%s') AS reg_date, year, month, day, hour, minute, second, Person, Vest, Helmet, NoHelmet, NoVest \n",
        "                FROM safety1\n",
        "                ORDER BY reg_date;\n",
        "    '''\n",
        "\n",
        "    cur = conn.cursor()\n",
        "    cur.execute(sql_select)\n",
        "    rows = cur.fetchall()         # fetchall\n",
        "    rows\n",
        "    len(rows)\n",
        "\n",
        "    years = []\n",
        "    months = []\n",
        "    days = []\n",
        "    hours = []\n",
        "    minutes = []\n",
        "    seconds = []\n",
        "    Persons = []\n",
        "    Vests = []\n",
        "    Helmets = []\n",
        "    NoHelmets = []\n",
        "    NoVests = []\n",
        "\n",
        "    for i in range(len(rows)):\n",
        "        years.append(rows[i][1])\n",
        "        months.append(rows[i][2])\n",
        "        days.append(rows[i][3])\n",
        "        hours.append(rows[i][4])\n",
        "        minutes.append(rows[i][5])\n",
        "        seconds.append(rows[i][6])\n",
        "        Persons.append(rows[i][7])\n",
        "        Vests.append(rows[i][8])\n",
        "        Helmets.append(rows[i][9])\n",
        "        NoHelmets.append(rows[i][10])\n",
        "        NoVests.append(rows[i][11])\n",
        "\n",
        "    sqldf = pd.DataFrame(data={'year' : years, 'month' : months, 'day' : days, 'hour' : hours, 'minute' : minutes, 'second' : seconds, 'Person' : Persons, 'Vest' : Vests, 'Helmet' : Helmets, 'NoHelmet' : NoHelmets, 'NoVest' : NoVests})\n",
        "    return(sqldf)"
      ],
      "execution_count": 129,
      "outputs": []
    },
    {
      "cell_type": "markdown",
      "metadata": {
        "id": "0JpRIpw3rRzw"
      },
      "source": [
        "#### sqlday(Y,M,D) : 원하는 날의 데이터를 불러와서 df로 바꿔주는 함수"
      ]
    },
    {
      "cell_type": "code",
      "metadata": {
        "id": "vuOgeN4DrRm_"
      },
      "source": [
        "def sqlday(Y,M,D):\n",
        "    sql_select = f'''\n",
        "            SELECT DATE_FORMAT(reg_date, '%Y-%m-%d %H:%i:%s') AS reg_date, year, month, day, hour, minute, second, Person, Vest, Helmet, NoHelmet, NoVest \n",
        "                FROM safety1\n",
        "                WHERE year = {Y} and month = {M} and day = {D}\n",
        "                ORDER BY reg_date;'''\n",
        "\n",
        "    cur = conn.cursor()\n",
        "    cur.execute(sql_select)\n",
        "    rows = cur.fetchall()         # fetchall\n",
        "    rows\n",
        "    len(rows)\n",
        "\n",
        "    years = []\n",
        "    months = []\n",
        "    days = []\n",
        "    hours = []\n",
        "    minutes = []\n",
        "    seconds = []\n",
        "    Persons = []\n",
        "    Vests = []\n",
        "    Helmets = []\n",
        "    NoHelmets = []\n",
        "    NoVests = []\n",
        "\n",
        "    for i in range(len(rows)):\n",
        "        years.append(rows[i][1])\n",
        "        months.append(rows[i][2])\n",
        "        days.append(rows[i][3])\n",
        "        hours.append(rows[i][4])\n",
        "        minutes.append(rows[i][5])\n",
        "        seconds.append(rows[i][6])\n",
        "        Persons.append(rows[i][7])\n",
        "        Vests.append(rows[i][8])\n",
        "        Helmets.append(rows[i][9])\n",
        "        NoHelmets.append(rows[i][10])\n",
        "        NoVests.append(rows[i][11])\n",
        "\n",
        "    sqlday = pd.DataFrame(data={'year' : years, 'month' : months, 'day' : days, 'hour' : hours, 'minute' : minutes, 'second' : seconds, 'Person' : Persons, 'Vest' : Vests, 'Helmet' : Helmets, 'NoHelmet' : NoHelmets, 'NoVest' : NoVests})\n",
        "    return(sqlday)"
      ],
      "execution_count": 130,
      "outputs": []
    },
    {
      "cell_type": "markdown",
      "metadata": {
        "id": "P6cJyQd6GTss"
      },
      "source": [
        "#### sqlweek : 주간 결과 통계"
      ]
    },
    {
      "cell_type": "code",
      "metadata": {
        "colab": {
          "base_uri": "https://localhost:8080/"
        },
        "id": "PY_mgdZyGxpV",
        "outputId": "3ae1c970-1705-4825-c932-03ec6eb8588c"
      },
      "source": [
        "day = dt.datetime(2021, 12, 1)\n",
        "day_before_7 = day - dt.timedelta(days=7)\n",
        "day, day_before_7"
      ],
      "execution_count": 91,
      "outputs": [
        {
          "output_type": "execute_result",
          "data": {
            "text/plain": [
              "(datetime.datetime(2021, 12, 1, 0, 0), datetime.datetime(2021, 11, 24, 0, 0))"
            ]
          },
          "metadata": {},
          "execution_count": 91
        }
      ]
    },
    {
      "cell_type": "code",
      "metadata": {
        "id": "KGpBvSeFGUEQ"
      },
      "source": [
        "def sqlweek(Y,M,D):\n",
        "    day = dt.datetime(Y, M, D)\n",
        "    day_before_7 = day -dt.timedelta(days=7)\n",
        "    stringday = f'{day.year}-{day.month}-{day.day}'\n",
        "    stringbeforeday = f'{day_before_7.year}-{day_before_7.month}-{day_before_7.day}'\n",
        "    sql_select = f'''\n",
        "            SELECT DATE_FORMAT(reg_date, '%Y-%m-%d') AS reg_date, year, month, day, hour, minute, second, Person, Vest, Helmet, NoHelmet, NoVest \n",
        "                FROM safety1\n",
        "                WHERE reg_date between {stringbeforeday} and {stringday}\n",
        "                ORDER BY reg_date;'''\n",
        "\n",
        "    cur = conn.cursor()\n",
        "    cur.execute(sql_select)\n",
        "    rows = cur.fetchall()         # fetchall\n",
        "    rows\n",
        "    len(rows)\n",
        "\n",
        "    years = []\n",
        "    months = []\n",
        "    days = []\n",
        "    hours = []\n",
        "    minutes = []\n",
        "    seconds = []\n",
        "    Persons = []\n",
        "    Vests = []\n",
        "    Helmets = []\n",
        "    NoHelmets = []\n",
        "    NoVests = []\n",
        "\n",
        "    for i in range(len(rows)):\n",
        "        years.append(rows[i][1])\n",
        "        months.append(rows[i][2])\n",
        "        days.append(rows[i][3])\n",
        "        hours.append(rows[i][4])\n",
        "        minutes.append(rows[i][5])\n",
        "        seconds.append(rows[i][6])\n",
        "        Persons.append(rows[i][7])\n",
        "        Vests.append(rows[i][8])\n",
        "        Helmets.append(rows[i][9])\n",
        "        NoHelmets.append(rows[i][10])\n",
        "        NoVests.append(rows[i][11])\n",
        "\n",
        "    sqlmonth = pd.DataFrame(data={'year' : years, 'month' : months, 'day' : days, 'hour' : hours, 'minute' : minutes, 'second' : seconds, 'Person' : Persons, 'Vest' : Vests, 'Helmet' : Helmets, 'NoHelmet' : NoHelmets, 'NoVest' : NoVests})\n",
        "    return(sqlmonth)"
      ],
      "execution_count": 92,
      "outputs": []
    },
    {
      "cell_type": "markdown",
      "metadata": {
        "id": "NwMfbjX6tV_5"
      },
      "source": [
        "#### sqlmonth(Y,M) : 원하는 년, 월의 기록을 데이터프레임화 시킴"
      ]
    },
    {
      "cell_type": "code",
      "metadata": {
        "id": "CmQeOrWNtVgS"
      },
      "source": [
        "def sqlmonth(Y,M):\n",
        "    sql_select = f'''\n",
        "            SELECT DATE_FORMAT(reg_date, '%Y-%m-%d %H:%i:%s') AS reg_date, year, month, day, hour, minute, second, Person, Vest, Helmet, NoHelmet, NoVest \n",
        "                FROM safety1\n",
        "                WHERE year = {Y} and month = {M}\n",
        "                ORDER BY reg_date;'''\n",
        "\n",
        "    cur = conn.cursor()\n",
        "    cur.execute(sql_select)\n",
        "    rows = cur.fetchall()         # fetchall\n",
        "    rows\n",
        "    len(rows)\n",
        "\n",
        "    years = []\n",
        "    months = []\n",
        "    days = []\n",
        "    hours = []\n",
        "    minutes = []\n",
        "    seconds = []\n",
        "    Persons = []\n",
        "    Vests = []\n",
        "    Helmets = []\n",
        "    NoHelmets = []\n",
        "    NoVests = []\n",
        "\n",
        "    for i in range(len(rows)):\n",
        "        years.append(rows[i][1])\n",
        "        months.append(rows[i][2])\n",
        "        days.append(rows[i][3])\n",
        "        hours.append(rows[i][4])\n",
        "        minutes.append(rows[i][5])\n",
        "        seconds.append(rows[i][6])\n",
        "        Persons.append(rows[i][7])\n",
        "        Vests.append(rows[i][8])\n",
        "        Helmets.append(rows[i][9])\n",
        "        NoHelmets.append(rows[i][10])\n",
        "        NoVests.append(rows[i][11])\n",
        "\n",
        "    sqlmonth = pd.DataFrame(data={'year' : years, 'month' : months, 'day' : days, 'hour' : hours, 'minute' : minutes, 'second' : seconds, 'Person' : Persons, 'Vest' : Vests, 'Helmet' : Helmets, 'NoHelmet' : NoHelmets, 'NoVest' : NoVests})\n",
        "    return(sqlmonth)"
      ],
      "execution_count": 93,
      "outputs": []
    },
    {
      "cell_type": "markdown",
      "metadata": {
        "id": "UObl6Z4NpSQr"
      },
      "source": [
        "#### sqlquater(Y) : 주어진 연도의 데이터들을 불러옴"
      ]
    },
    {
      "cell_type": "code",
      "metadata": {
        "id": "U0XveakjpU8J"
      },
      "source": [
        "def q4cut(s):\n",
        "    return pd.qcut(s, 4, labels=[\"1분기\", \"2분기\", \"3분기\", \"4분기\"]).astype(str)\n",
        "\n",
        "def sqlquater(Y):\n",
        "    # if Q == 1:\n",
        "    #     M1 = 1\n",
        "    #     M2 = 3\n",
        "    # elif Q == 2:\n",
        "    #     M1 = 4\n",
        "    #     M2 = 6        \n",
        "    # elif Q == 3:\n",
        "    #     M1 = 7\n",
        "    #     M2 = 9\n",
        "    # else:\n",
        "    #     M1 = 10\n",
        "    #     M2 = 12\n",
        "\n",
        "    sql_select = f'''\n",
        "            SELECT DATE_FORMAT(reg_date, '%Y-%m-%d %H:%i:%s') AS reg_date, year, month, day, hour, minute, second, Person, Vest, Helmet, NoHelmet, NoVest \n",
        "                FROM safety1\n",
        "                WHERE year = {Y}\n",
        "                ORDER BY reg_date;'''\n",
        "    cur = conn.cursor()\n",
        "    cur.execute(sql_select)\n",
        "    rows = cur.fetchall()         # fetchall\n",
        "    rows\n",
        "    len(rows)\n",
        "\n",
        "    years = []\n",
        "    months = []\n",
        "    days = []\n",
        "    hours = []\n",
        "    minutes = []\n",
        "    seconds = []\n",
        "    Persons = []\n",
        "    Vests = []\n",
        "    Helmets = []\n",
        "    NoHelmets = []\n",
        "    NoVests = []\n",
        "\n",
        "    for i in range(len(rows)):\n",
        "        years.append(rows[i][1])\n",
        "        months.append(rows[i][2])\n",
        "        days.append(rows[i][3])\n",
        "        hours.append(rows[i][4])\n",
        "        minutes.append(rows[i][5])\n",
        "        seconds.append(rows[i][6])\n",
        "        Persons.append(rows[i][7])\n",
        "        Vests.append(rows[i][8])\n",
        "        Helmets.append(rows[i][9])\n",
        "        NoHelmets.append(rows[i][10])\n",
        "        NoVests.append(rows[i][11])\n",
        "\n",
        "    sqlquater = pd.DataFrame(data={'year' : years, 'month' : months, 'day' : days, 'hour' : hours, 'minute' : minutes, 'second' : seconds, 'Person' : Persons, 'Vest' : Vests, 'Helmet' : Helmets, 'NoHelmet' : NoHelmets, 'NoVest' : NoVests})\n",
        "    \n",
        "    return(sqlquater)\n"
      ],
      "execution_count": 94,
      "outputs": []
    },
    {
      "cell_type": "markdown",
      "metadata": {
        "id": "JTqcotXKRj6J"
      },
      "source": [
        "#### sqlimage() : 주어진 연월일시분초에 맞는 사진 출력"
      ]
    },
    {
      "cell_type": "code",
      "metadata": {
        "id": "stbfvj0PSAXv"
      },
      "source": [
        "def sqlimage(year,month,day,hour,minute,second):\n",
        "    sql_select = f'''\n",
        "            SELECT imagepath, year, month, day, hour, minute, second, Person, Vest, Helmet, NoHelmet, NoVest\n",
        "                FROM safety1\n",
        "                WHERE year = {year} and month = {month} and day = {day} and hour = {hour} and minute = {minute} and second = {second}\n",
        "                '''\n",
        "    cur = conn.cursor()\n",
        "    cur.execute(sql_select)\n",
        "    row = cur.fetchone()         # fetchall\n",
        "    return(Image.open(row[0]))"
      ],
      "execution_count": null,
      "outputs": []
    },
    {
      "cell_type": "markdown",
      "metadata": {
        "id": "WincYJHUSFWs"
      },
      "source": [
        "#### sqlfindimage() : 입력한 연월일시분초에 맞는 사진 출력\n"
      ]
    },
    {
      "cell_type": "code",
      "metadata": {
        "id": "nKi5es18Rja0"
      },
      "source": [
        "def sqlfindimage():\n",
        "    year = input('연도를 입력해주세요 : ')\n",
        "    month = input('월을 입력해주세요 : ')\n",
        "    day = input('일을 입력해주세요 : ')\n",
        "    hour = input('시간을 입력해주세요 : ')\n",
        "    minute = input('분을 입력해주세요 : ')\n",
        "    second = input('초를 입력해주세요 : ')\n",
        "    return(sqlimage(year,month,day,hour,minute,second))"
      ],
      "execution_count": null,
      "outputs": []
    },
    {
      "cell_type": "markdown",
      "metadata": {
        "id": "dk2NKioxFhhi"
      },
      "source": [
        "### 데이터 통계 관련 함수"
      ]
    },
    {
      "cell_type": "markdown",
      "metadata": {
        "id": "VJFfy6JtEXYM"
      },
      "source": [
        "#### cal_hel, cal_vest : "
      ]
    },
    {
      "cell_type": "code",
      "metadata": {
        "id": "td-ecdwVBFwZ"
      },
      "source": [
        "def cal_hel(row):\n",
        "  if row.Helmet == row.Person == 0 :               # 1) 헬멧 객체와 사람객체가 0인 경우 미표기\n",
        "    return None\n",
        "  else:                                            # 2) 사람 >= 헬멧 인 경우 헬멧/사람*100 으로 착용률 계산\n",
        "    return row.Helmet / row.Person * 100\n",
        "\n",
        "\n",
        "def cal_vest(row):\n",
        "  if row.Vest == row.Person == 0 :                # 1) 조끼 객체와 사람객체가 0인 경우 미표기\n",
        "    return None\n",
        "  else:                                           # 2) 사람 >= 조끼 인 경우 조끼/사람*100 으로 착용률 계산\n",
        "    return row.Vest / row.Person * 100"
      ],
      "execution_count": 95,
      "outputs": []
    },
    {
      "cell_type": "markdown",
      "metadata": {
        "id": "yVu_oD-nUtyl"
      },
      "source": [
        "#### DayResult(Y, M, D) : 원하는 날의 통계를 내고 구글드라이브에 csv 저장\n",
        "- Ex) (Y,M,D) = (2021,01,01)\n",
        "- print를 넣어도 되고 안넣어도 되고"
      ]
    },
    {
      "cell_type": "code",
      "metadata": {
        "id": "TpLOWIAuVAnx"
      },
      "source": [
        "def DayResult(Y, M, D):\n",
        "    df = sqlday(Y, M, D)\n",
        "\n",
        "    day = dt.datetime(Y, M, D) # today 2021-01-01 가정\n",
        "\n",
        "    y = day.year\n",
        "    m = day.month\n",
        "    d = day.day\n",
        "\n",
        "    df = df.astype(int)\n",
        "    df['Person'] =df.apply(lambda row: row['Helmet'] + row['NoHelmet'] if row['Helmet'] + row['NoHelmet'] >= row['Person'] else row['Person'],axis=1)\n",
        "    df['Person'] =df.apply(lambda row: row['Vest'] + row['NoVest'] if row['Vest'] + row['NoVest'] >= row['Person'] else row['Person'],axis=1) \n",
        "    # 전날 시간대별 헬멧/조끼 평균 착용률\n",
        "    df[['헬멧착용률(%)']] = df.apply(cal_hel, axis=1)\n",
        "    df[['조끼착용률(%)']] = df.apply(cal_vest, axis=1)\n",
        "    df.rename(columns = {'year':'연도', 'month':'월', 'day':'일', 'hour':'시간'}, inplace=True)\n",
        "    df = df[['연도', '월', '일', '시간', '헬멧착용률(%)', '조끼착용률(%)']].groupby(['연도', '월', '일', '시간']).mean().round(1)\n",
        "    filename = f'df_result_{Y}_{M}_{D}.csv'\n",
        "    # df.to_csv(f'/content/drive/MyDrive/최종프로젝트/자료/대시보드/{filename}')\n",
        "    return(df)"
      ],
      "execution_count": 96,
      "outputs": []
    },
    {
      "cell_type": "markdown",
      "metadata": {
        "id": "k9OyREqHJaRr"
      },
      "source": [
        "#### MonthResult(Y, M) : 주어진 연, 월의 자료를 통계낸 후 저장"
      ]
    },
    {
      "cell_type": "code",
      "metadata": {
        "id": "mYrsDVDjCQzd"
      },
      "source": [
        "def MonthResult(Y, M):\n",
        "    df = sqlmonth(Y, M).astype(int)\n",
        "   \n",
        "    df['Person'] =df.apply(lambda row: row['Helmet'] + row['NoHelmet'] if row['Helmet'] + row['NoHelmet'] >= row['Person'] else row['Person'],axis=1)\n",
        "    df['Person'] =df.apply(lambda row: row['Vest'] + row['NoVest'] if row['Vest'] + row['NoVest'] >= row['Person'] else row['Person'],axis=1) \n",
        "    # 전날 시간대별 헬멧/조끼 평균 착용률\n",
        "    df[['헬멧착용률(%)']] = df.apply(cal_hel, axis=1)\n",
        "    df[['조끼착용률(%)']] = df.apply(cal_vest, axis=1)\n",
        "    df.rename(columns = {'year':'연도', 'month':'월', 'day':'일', 'hour':'시간'}, inplace=True)\n",
        "    df = df[['연도', '월', '헬멧착용률(%)', '조끼착용률(%)']].groupby(['연도', '월']).mean().round(1)\n",
        "    filename = f'df_monthresult_{Y}_{M}.csv'\n",
        "    # df.to_csv(f'/content/drive/MyDrive/최종프로젝트/자료/대시보드/{filename}')\n",
        "    return(df)"
      ],
      "execution_count": 97,
      "outputs": []
    },
    {
      "cell_type": "code",
      "metadata": {
        "id": "qKAOaAm_NaN2"
      },
      "source": [
        "def MonthTimeResult(Y, M):\n",
        "    df = sqlmonth(Y, M).astype(int)\n",
        "   \n",
        "    df['Person'] =df.apply(lambda row: row['Helmet'] + row['NoHelmet'] if row['Helmet'] + row['NoHelmet'] >= row['Person'] else row['Person'],axis=1)\n",
        "    df['Person'] =df.apply(lambda row: row['Vest'] + row['NoVest'] if row['Vest'] + row['NoVest'] >= row['Person'] else row['Person'],axis=1) \n",
        "    # 전날 시간대별 헬멧/조끼 평균 착용률\n",
        "    df[['헬멧착용률(%)']] = df.apply(cal_hel, axis=1)\n",
        "    df[['조끼착용률(%)']] = df.apply(cal_vest, axis=1)\n",
        "    df.rename(columns = {'year':'연도', 'month':'월', 'day':'일', 'hour':'시간'}, inplace=True)\n",
        "    df = df[['연도', '월', '시간', '헬멧착용률(%)', '조끼착용률(%)']].groupby(['연도', '월',  '시간']).mean().round(1)\n",
        "    filename = f'df_monthtimeresult_{Y}_{M}.csv'\n",
        "    # df.to_csv(f'/content/drive/MyDrive/최종프로젝트/자료/대시보드/{filename}')\n",
        "    return(df)"
      ],
      "execution_count": 98,
      "outputs": []
    },
    {
      "cell_type": "markdown",
      "metadata": {
        "id": "jjPb3l8sx1F_"
      },
      "source": [
        "#### QuaterResult(Y) : 입력한 연도의 분기별 통계 내기"
      ]
    },
    {
      "cell_type": "code",
      "metadata": {
        "id": "ll6l7W38xODE"
      },
      "source": [
        "def QuaterResult(Y):\n",
        "    df = sqlquater(Y).astype(int)\n",
        "    df[\"분기\"] = df.month.transform(q4cut)\n",
        "    df['Person'] =df.apply(lambda row: row['Helmet'] + row['NoHelmet'] if row['Helmet'] + row['NoHelmet'] >= row['Person'] else row['Person'],axis=1)\n",
        "    df['Person'] =df.apply(lambda row: row['Vest'] + row['NoVest'] if row['Vest'] + row['NoVest'] >= row['Person'] else row['Person'],axis=1) \n",
        "\n",
        "    df[['헬멧착용률(%)']] = df.apply(cal_hel, axis=1)\n",
        "    df[['조끼착용률(%)']] = df.apply(cal_vest, axis=1)\n",
        "    df.rename(columns = {'year':'연도', 'month':'월', 'day':'일', 'hour':'시간'}, inplace=True)\n",
        "    # 분기별 시간대별 데이터 통계\n",
        "    df = df[['연도', '분기', '헬멧착용률(%)', '조끼착용률(%)']].groupby(['연도', '분기']).mean().round(1)\n",
        "    filename = f'df_quaterresult_{Y}.csv'\n",
        "    # df.to_csv(f'/content/drive/MyDrive/최종프로젝트/자료/대시보드/{filename}')\n",
        "    return(df)"
      ],
      "execution_count": 99,
      "outputs": []
    },
    {
      "cell_type": "markdown",
      "metadata": {
        "id": "vxQ9kl9zCRm8"
      },
      "source": [
        "### 실행함수"
      ]
    },
    {
      "cell_type": "code",
      "metadata": {
        "id": "SZZMZpp_BFtk"
      },
      "source": [
        "def CCTVDetection():\n",
        "    net = yolonet()\n",
        "    while True: # 몇번 동작할 것인지.\n",
        "        if datetime.now(timezone('Asia/Seoul')).hour<18:  # 실제 사용에서는 datetime.now(timezone('Asia/Seoul')).hour < 18 으로 해서 오후 6시 정각까지만 작동하도록 하면 됨\n",
        "            time.sleep(2)   # 2초 간격으로 캡쳐   # 몇초 단위로 캡쳐할 것인지\n",
        "            take_photo()\n",
        "            clovaperson('photo.jpg')\n",
        "            frame = cv2.imread('photo.jpg') # 캡쳐한 이미지를 openCV형식으로 전환\n",
        "            df = yoloimg(frame, net)\n",
        "            today = datetime.now(timezone('Asia/Seoul'))\n",
        "            df['year'] = today.year\n",
        "            df['month'] = today.month\n",
        "            df['day'] = today.day\n",
        "            hour = (str(today.hour)).zfill(2)\n",
        "            df['hour'] = hour\n",
        "            minute= (str(today.minute)).zfill(2)\n",
        "            df['minute'] = minute\n",
        "            second = (str(today.second)).zfill(2)\n",
        "            df['second'] = second\n",
        "            df['Person'][0] = clovaperson('photo.jpg') # df의 Person을 CLOVA OD가 파악한 사람수로 바꿔주기\n",
        "            image = Image.open('photo.jpg')\n",
        "            imagepath1 = f'/content/drive/MyDrive/Data/ProjectF/CCTVImage/CCTVimage_{today.year}{today.month}{today.day}_{hour}{minute}{second}.jpg'\n",
        "            imagepath2 = f\"'/content/drive/MyDrive/Data/ProjectF/CCTVImage/CCTVimage_{today.year}{today.month}{today.day}_{hour}{minute}{second}.jpg'\"\n",
        "            image.save(imagepath1, format='JPEG')\n",
        "            insert_sql(df,imagepath2)\n",
        "        else:# 6시 정각 이후에는 멈춤\n",
        "            break"
      ],
      "execution_count": 185,
      "outputs": []
    },
    {
      "cell_type": "code",
      "metadata": {
        "id": "uYZZ-_dhkGQe"
      },
      "source": [
        "def EntranceDetection():\n",
        "    net = yolonet()\n",
        "    while True: # 몇번 동작할 것인지.\n",
        "        if datetime.now(timezone('Asia/Seoul')).hour<18:  # 실제 사용에서는 datetime.now(timezone('Asia/Seoul')).hour < 18 으로 해서 오후 6시 정각까지만 작동하도록 하면 됨\n",
        "            time.sleep(2)   # 2초 간격으로 캡쳐\n",
        "            take_photo()\n",
        "            clovaresult = clovaperson('photo.jpg')            \n",
        "            if clovaresult > 0:  # 사람수가 1 이상일때 > YOLO 진\n",
        "                beepRe()\n",
        "                while True:\n",
        "                    take_photo()\n",
        "                    clovasecond = clovaperson('photo.jpg')\n",
        "                    if clovasecond > 0:\n",
        "                        frame = cv2.imread('photo.jpg') # 캡쳐한 이미지를 openCV형식으로 전환\n",
        "                        df = yoloimg(frame, net)\n",
        "                        df['Person'][0] = clovaperson('photo.jpg') # df의 Person을 CLOVA OD가 파악한 사람수로 바꿔주기\n",
        "                        if df.Person[0] == 1 and df.Helmet[0] == 1 and df.Vest[0]==1:\n",
        "                            beep1()\n",
        "                            break\n",
        "                        else:\n",
        "                            audioout(df)\n",
        "                    else:\n",
        "                        pass\n",
        "                else:\n",
        "                    break\n",
        "\n",
        "        else:\n",
        "            break"
      ],
      "execution_count": 101,
      "outputs": []
    },
    {
      "cell_type": "markdown",
      "metadata": {
        "id": "wqJzSenxFmKB"
      },
      "source": [
        "# `**최종프로젝트 순서**`\n",
        "\n",
        "0. sql 서버에 연결 : conn = sql_conn(jsonfile)</br>\n",
        "(선택) sql 테이블 생성 : sqlCreateTable(conn)</br>\n",
        "1-1. 실행함수 실행 : CCTVDetection()</br>\n",
        "1-2. 실행함수 실행 : EntranceDetection()</br>\n",
        "2. 원하는 함수에 값을 입력한 뒤 통계 출력 후 저장"
      ]
    },
    {
      "cell_type": "markdown",
      "metadata": {
        "id": "p-Zn2R9mYTbY"
      },
      "source": [
        "#### 1-(1)CCTV를 통해 매일 오후 18시까지 일정간격으로 캡쳐후 정보를 모으고, 6시가 지나면 멈춤\n"
      ]
    },
    {
      "cell_type": "code",
      "metadata": {
        "id": "9ToSNijHGA3s"
      },
      "source": [
        "# 1. sql 서버에 연결\n",
        "conn = sql_conn('/content/drive/MyDrive/최종프로젝트/자료/mysql.json')\n",
        "\n",
        "# 2. sql 테이블이 존재하지 않을 시 테이블 생성\n",
        "# sqlCreateTable(conn)\n",
        "\n",
        "# 3. 실행함수 실행\n",
        "CCTVDetection()"
      ],
      "execution_count": null,
      "outputs": []
    },
    {
      "cell_type": "markdown",
      "metadata": {
        "id": "QrqElSbtf-VW"
      },
      "source": [
        "#### 1-(2) 입구에 설치된 카메라를 통해 보호장비 착용여부를 인식하고, 결과를 음성으로 알려줌"
      ]
    },
    {
      "cell_type": "code",
      "metadata": {
        "id": "6hjlNwGqgG4u"
      },
      "source": [
        "EntranceDetection()"
      ],
      "execution_count": null,
      "outputs": []
    },
    {
      "cell_type": "markdown",
      "metadata": {
        "id": "nLe8xHRtYgY8"
      },
      "source": [
        "#### 2 입력한 값에 알맞은 통계를 내줌\n",
        "- DayResult(Y,M,D) : 원하는 날의 통계를 내고, 그 결과를 csv 파일로 저장\n",
        "- MonthReseut(Y,M) : 원하는 달의 통계를 내고, 그 결과를 csv 파일로 저장\n",
        "- MonthTimeResult(Y,M) : 원하는 달의 시간별 통계를 내고, 그 결과를 csv 파일로 저장\n",
        "- QuaterResult(Y) : 원하는 연도의 분기별 통계를 내고, 그 결과를 csv 파일로 저장"
      ]
    },
    {
      "cell_type": "code",
      "metadata": {
        "id": "-6udxMdv320K",
        "colab": {
          "base_uri": "https://localhost:8080/",
          "height": 394
        },
        "outputId": "eafde192-b2f8-4cf0-9785-45c27670c91c"
      },
      "source": [
        "DayResult(2020,3,2)"
      ],
      "execution_count": 189,
      "outputs": [
        {
          "output_type": "execute_result",
          "data": {
            "text/html": [
              "<div>\n",
              "<style scoped>\n",
              "    .dataframe tbody tr th:only-of-type {\n",
              "        vertical-align: middle;\n",
              "    }\n",
              "\n",
              "    .dataframe tbody tr th {\n",
              "        vertical-align: top;\n",
              "    }\n",
              "\n",
              "    .dataframe thead th {\n",
              "        text-align: right;\n",
              "    }\n",
              "</style>\n",
              "<table border=\"1\" class=\"dataframe\">\n",
              "  <thead>\n",
              "    <tr style=\"text-align: right;\">\n",
              "      <th></th>\n",
              "      <th></th>\n",
              "      <th></th>\n",
              "      <th></th>\n",
              "      <th>헬멧착용률(%)</th>\n",
              "      <th>조끼착용률(%)</th>\n",
              "    </tr>\n",
              "    <tr>\n",
              "      <th>연도</th>\n",
              "      <th>월</th>\n",
              "      <th>일</th>\n",
              "      <th>시간</th>\n",
              "      <th></th>\n",
              "      <th></th>\n",
              "    </tr>\n",
              "  </thead>\n",
              "  <tbody>\n",
              "    <tr>\n",
              "      <th rowspan=\"10\" valign=\"top\">2020</th>\n",
              "      <th rowspan=\"10\" valign=\"top\">3</th>\n",
              "      <th rowspan=\"10\" valign=\"top\">2</th>\n",
              "      <th>9</th>\n",
              "      <td>28.9</td>\n",
              "      <td>39.2</td>\n",
              "    </tr>\n",
              "    <tr>\n",
              "      <th>10</th>\n",
              "      <td>30.1</td>\n",
              "      <td>47.5</td>\n",
              "    </tr>\n",
              "    <tr>\n",
              "      <th>11</th>\n",
              "      <td>30.0</td>\n",
              "      <td>39.0</td>\n",
              "    </tr>\n",
              "    <tr>\n",
              "      <th>12</th>\n",
              "      <td>39.6</td>\n",
              "      <td>39.3</td>\n",
              "    </tr>\n",
              "    <tr>\n",
              "      <th>13</th>\n",
              "      <td>43.8</td>\n",
              "      <td>39.9</td>\n",
              "    </tr>\n",
              "    <tr>\n",
              "      <th>14</th>\n",
              "      <td>36.1</td>\n",
              "      <td>46.4</td>\n",
              "    </tr>\n",
              "    <tr>\n",
              "      <th>15</th>\n",
              "      <td>40.6</td>\n",
              "      <td>45.9</td>\n",
              "    </tr>\n",
              "    <tr>\n",
              "      <th>16</th>\n",
              "      <td>47.0</td>\n",
              "      <td>35.4</td>\n",
              "    </tr>\n",
              "    <tr>\n",
              "      <th>17</th>\n",
              "      <td>35.7</td>\n",
              "      <td>42.9</td>\n",
              "    </tr>\n",
              "    <tr>\n",
              "      <th>18</th>\n",
              "      <td>42.0</td>\n",
              "      <td>34.7</td>\n",
              "    </tr>\n",
              "  </tbody>\n",
              "</table>\n",
              "</div>"
            ],
            "text/plain": [
              "             헬멧착용률(%)  조끼착용률(%)\n",
              "연도   월 일 시간                    \n",
              "2020 3 2 9       28.9      39.2\n",
              "         10      30.1      47.5\n",
              "         11      30.0      39.0\n",
              "         12      39.6      39.3\n",
              "         13      43.8      39.9\n",
              "         14      36.1      46.4\n",
              "         15      40.6      45.9\n",
              "         16      47.0      35.4\n",
              "         17      35.7      42.9\n",
              "         18      42.0      34.7"
            ]
          },
          "metadata": {},
          "execution_count": 189
        }
      ]
    },
    {
      "cell_type": "code",
      "metadata": {
        "id": "nq2Qt70ICkou",
        "colab": {
          "base_uri": "https://localhost:8080/",
          "height": 112
        },
        "outputId": "33388376-5a60-4e15-e930-ddb570713f03"
      },
      "source": [
        "MonthResult(2020,1)"
      ],
      "execution_count": 190,
      "outputs": [
        {
          "output_type": "execute_result",
          "data": {
            "text/html": [
              "<div>\n",
              "<style scoped>\n",
              "    .dataframe tbody tr th:only-of-type {\n",
              "        vertical-align: middle;\n",
              "    }\n",
              "\n",
              "    .dataframe tbody tr th {\n",
              "        vertical-align: top;\n",
              "    }\n",
              "\n",
              "    .dataframe thead th {\n",
              "        text-align: right;\n",
              "    }\n",
              "</style>\n",
              "<table border=\"1\" class=\"dataframe\">\n",
              "  <thead>\n",
              "    <tr style=\"text-align: right;\">\n",
              "      <th></th>\n",
              "      <th></th>\n",
              "      <th>헬멧착용률(%)</th>\n",
              "      <th>조끼착용률(%)</th>\n",
              "    </tr>\n",
              "    <tr>\n",
              "      <th>연도</th>\n",
              "      <th>월</th>\n",
              "      <th></th>\n",
              "      <th></th>\n",
              "    </tr>\n",
              "  </thead>\n",
              "  <tbody>\n",
              "    <tr>\n",
              "      <th>2020</th>\n",
              "      <th>1</th>\n",
              "      <td>39.4</td>\n",
              "      <td>39.3</td>\n",
              "    </tr>\n",
              "  </tbody>\n",
              "</table>\n",
              "</div>"
            ],
            "text/plain": [
              "        헬멧착용률(%)  조끼착용률(%)\n",
              "연도   월                    \n",
              "2020 1      39.4      39.3"
            ]
          },
          "metadata": {},
          "execution_count": 190
        }
      ]
    },
    {
      "cell_type": "code",
      "metadata": {
        "id": "6CBkcfZaImuC",
        "colab": {
          "base_uri": "https://localhost:8080/",
          "height": 394
        },
        "outputId": "cbe4e30c-3bbb-4ac1-f348-34938a7b3768"
      },
      "source": [
        "MonthTimeResult(2020,2)"
      ],
      "execution_count": 191,
      "outputs": [
        {
          "output_type": "execute_result",
          "data": {
            "text/html": [
              "<div>\n",
              "<style scoped>\n",
              "    .dataframe tbody tr th:only-of-type {\n",
              "        vertical-align: middle;\n",
              "    }\n",
              "\n",
              "    .dataframe tbody tr th {\n",
              "        vertical-align: top;\n",
              "    }\n",
              "\n",
              "    .dataframe thead th {\n",
              "        text-align: right;\n",
              "    }\n",
              "</style>\n",
              "<table border=\"1\" class=\"dataframe\">\n",
              "  <thead>\n",
              "    <tr style=\"text-align: right;\">\n",
              "      <th></th>\n",
              "      <th></th>\n",
              "      <th></th>\n",
              "      <th>헬멧착용률(%)</th>\n",
              "      <th>조끼착용률(%)</th>\n",
              "    </tr>\n",
              "    <tr>\n",
              "      <th>연도</th>\n",
              "      <th>월</th>\n",
              "      <th>시간</th>\n",
              "      <th></th>\n",
              "      <th></th>\n",
              "    </tr>\n",
              "  </thead>\n",
              "  <tbody>\n",
              "    <tr>\n",
              "      <th rowspan=\"10\" valign=\"top\">2020</th>\n",
              "      <th rowspan=\"10\" valign=\"top\">2</th>\n",
              "      <th>9</th>\n",
              "      <td>39.7</td>\n",
              "      <td>39.4</td>\n",
              "    </tr>\n",
              "    <tr>\n",
              "      <th>10</th>\n",
              "      <td>41.6</td>\n",
              "      <td>38.9</td>\n",
              "    </tr>\n",
              "    <tr>\n",
              "      <th>11</th>\n",
              "      <td>39.0</td>\n",
              "      <td>41.6</td>\n",
              "    </tr>\n",
              "    <tr>\n",
              "      <th>12</th>\n",
              "      <td>37.8</td>\n",
              "      <td>39.8</td>\n",
              "    </tr>\n",
              "    <tr>\n",
              "      <th>13</th>\n",
              "      <td>39.5</td>\n",
              "      <td>39.6</td>\n",
              "    </tr>\n",
              "    <tr>\n",
              "      <th>14</th>\n",
              "      <td>40.6</td>\n",
              "      <td>38.6</td>\n",
              "    </tr>\n",
              "    <tr>\n",
              "      <th>15</th>\n",
              "      <td>39.4</td>\n",
              "      <td>39.1</td>\n",
              "    </tr>\n",
              "    <tr>\n",
              "      <th>16</th>\n",
              "      <td>39.0</td>\n",
              "      <td>39.9</td>\n",
              "    </tr>\n",
              "    <tr>\n",
              "      <th>17</th>\n",
              "      <td>40.8</td>\n",
              "      <td>38.3</td>\n",
              "    </tr>\n",
              "    <tr>\n",
              "      <th>18</th>\n",
              "      <td>37.5</td>\n",
              "      <td>38.0</td>\n",
              "    </tr>\n",
              "  </tbody>\n",
              "</table>\n",
              "</div>"
            ],
            "text/plain": [
              "           헬멧착용률(%)  조끼착용률(%)\n",
              "연도   월 시간                    \n",
              "2020 2 9       39.7      39.4\n",
              "       10      41.6      38.9\n",
              "       11      39.0      41.6\n",
              "       12      37.8      39.8\n",
              "       13      39.5      39.6\n",
              "       14      40.6      38.6\n",
              "       15      39.4      39.1\n",
              "       16      39.0      39.9\n",
              "       17      40.8      38.3\n",
              "       18      37.5      38.0"
            ]
          },
          "metadata": {},
          "execution_count": 191
        }
      ]
    },
    {
      "cell_type": "code",
      "metadata": {
        "colab": {
          "base_uri": "https://localhost:8080/",
          "height": 206
        },
        "id": "DRuSxzR9x62l",
        "outputId": "6516c79f-c18c-4b8e-a93e-d1bfbeaeafc8"
      },
      "source": [
        "QuaterResult(2020)"
      ],
      "execution_count": 192,
      "outputs": [
        {
          "output_type": "execute_result",
          "data": {
            "text/html": [
              "<div>\n",
              "<style scoped>\n",
              "    .dataframe tbody tr th:only-of-type {\n",
              "        vertical-align: middle;\n",
              "    }\n",
              "\n",
              "    .dataframe tbody tr th {\n",
              "        vertical-align: top;\n",
              "    }\n",
              "\n",
              "    .dataframe thead th {\n",
              "        text-align: right;\n",
              "    }\n",
              "</style>\n",
              "<table border=\"1\" class=\"dataframe\">\n",
              "  <thead>\n",
              "    <tr style=\"text-align: right;\">\n",
              "      <th></th>\n",
              "      <th></th>\n",
              "      <th>헬멧착용률(%)</th>\n",
              "      <th>조끼착용률(%)</th>\n",
              "    </tr>\n",
              "    <tr>\n",
              "      <th>연도</th>\n",
              "      <th>분기</th>\n",
              "      <th></th>\n",
              "      <th></th>\n",
              "    </tr>\n",
              "  </thead>\n",
              "  <tbody>\n",
              "    <tr>\n",
              "      <th rowspan=\"4\" valign=\"top\">2020</th>\n",
              "      <th>1분기</th>\n",
              "      <td>39.4</td>\n",
              "      <td>39.4</td>\n",
              "    </tr>\n",
              "    <tr>\n",
              "      <th>2분기</th>\n",
              "      <td>39.6</td>\n",
              "      <td>39.3</td>\n",
              "    </tr>\n",
              "    <tr>\n",
              "      <th>3분기</th>\n",
              "      <td>39.2</td>\n",
              "      <td>39.3</td>\n",
              "    </tr>\n",
              "    <tr>\n",
              "      <th>4분기</th>\n",
              "      <td>39.7</td>\n",
              "      <td>39.6</td>\n",
              "    </tr>\n",
              "  </tbody>\n",
              "</table>\n",
              "</div>"
            ],
            "text/plain": [
              "          헬멧착용률(%)  조끼착용률(%)\n",
              "연도   분기                     \n",
              "2020 1분기      39.4      39.4\n",
              "     2분기      39.6      39.3\n",
              "     3분기      39.2      39.3\n",
              "     4분기      39.7      39.6"
            ]
          },
          "metadata": {},
          "execution_count": 192
        }
      ]
    },
    {
      "cell_type": "markdown",
      "metadata": {
        "id": "rw7Fgn-4SXd8"
      },
      "source": [
        "#### 3 원하는 시간대의 사진을 볼 수 있게 해줌."
      ]
    },
    {
      "cell_type": "code",
      "metadata": {
        "colab": {
          "base_uri": "https://localhost:8080/",
          "height": 607
        },
        "id": "W3YGvwL5SXG1",
        "outputId": "73091792-773a-4177-c18d-335c51b952ce"
      },
      "source": [
        "sqlfindimage()"
      ],
      "execution_count": 183,
      "outputs": [
        {
          "name": "stdout",
          "output_type": "stream",
          "text": [
            "연도를 입력해주세요 : 2021\n",
            "월을 입력해주세요 : 12\n",
            "일을 입력해주세요 : 7\n",
            "시간을 입력해주세요 : 12\n",
            "분을 입력해주세요 : 31\n",
            "초를 입력해주세요 : 6\n"
          ]
        },
        {
          "output_type": "execute_result",
          "data": {
            "image/png": "[encoded data removed]",
            "text/plain": [
              "<PIL.JpegImagePlugin.JpegImageFile image mode=RGB size=640x480 at 0x7F61EBFDD790>"
            ]
          },
          "metadata": {},
          "execution_count": 183
        }
      ]
    }
  ]
}