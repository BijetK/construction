{
 "cells": [
  {
   "cell_type": "markdown",
   "metadata": {},
   "source": [
    "# **1. Import**"
   ]
  },
  {
   "cell_type": "code",
   "execution_count": 3,
   "metadata": {},
   "outputs": [],
   "source": [
    "import shutil\n",
    "from glob import glob"
   ]
  },
  {
   "cell_type": "code",
   "execution_count": null,
   "metadata": {},
   "outputs": [],
   "source": [
    "\n",
    "txtList = glob('vest/*.txt')\n",
    "txtList"
   ]
  },
  {
   "cell_type": "code",
   "execution_count": null,
   "metadata": {},
   "outputs": [],
   "source": [
    "txtnameList = []\n",
    "for txtfile in txtList:\n",
    "    txtname = txtfile.split('\\\\')[1]\n",
    "    txtnameList.append(txtname)\n",
    "txtnameList"
   ]
  },
  {
   "cell_type": "code",
   "execution_count": 17,
   "metadata": {},
   "outputs": [],
   "source": [
    "vestonlyperson(txtnameList)"
   ]
  },
  {
   "cell_type": "code",
   "execution_count": 11,
   "metadata": {},
   "outputs": [],
   "source": [
    "f = open(txtList[2785], 'r')"
   ]
  },
  {
   "cell_type": "code",
   "execution_count": 12,
   "metadata": {},
   "outputs": [
    {
     "data": {
      "text/plain": [
       "['0 0.792067 0.484375 0.411058 0.314904\\n',\n",
       " '0 0.143029 0.503606 0.247596 0.430288\\n',\n",
       " '3 0.168269 0.423077 0.173077 0.230769\\n',\n",
       " '3 0.721154 0.475962 0.192308 0.187500\\n']"
      ]
     },
     "execution_count": 12,
     "metadata": {},
     "output_type": "execute_result"
    }
   ],
   "source": [
    "lines = f.readlines()\n",
    "lines"
   ]
  },
  {
   "cell_type": "code",
   "execution_count": null,
   "metadata": {},
   "outputs": [],
   "source": [
    "classcode = lines[0][0]"
   ]
  },
  {
   "cell_type": "markdown",
   "metadata": {},
   "source": [
    "# **2. 함수 선언**"
   ]
  },
  {
   "cell_type": "markdown",
   "metadata": {},
   "source": [
    "| CLASSCODE | 사람+헬멧 | 사람+조끼 |\n",
    "| --------- | --------- | --------- |\n",
    "| 0(사람)   | 그대로    | 그대로    |\n",
    "| 1(조끼)   | 삭제      | 그대로    |\n",
    "| 2(헬멧)   | 1로       | 삭제      |\n",
    "| 3(헬멧X)  | 2로       | 삭제      |\n",
    "| 4(조끼X)  | 삭제      | 2로       |"
   ]
  },
  {
   "cell_type": "markdown",
   "metadata": {},
   "source": [
    "## 1. 헬멧이 포함된 자료들만 ( 0: person / 1: helmet / 2 : nohelmet)"
   ]
  },
  {
   "cell_type": "code",
   "execution_count": 87,
   "metadata": {},
   "outputs": [],
   "source": [
    "def helmetperson(txtList):\n",
    "    # 1. 조건에 맞는 txt파일 만들기\n",
    "    for txtfile in txtList:\n",
    "        f = open(txtfile, 'r')\n",
    "        lines = f.readlines()\n",
    "        newlines = []\n",
    "        for i in range(len(lines)):\n",
    "            classcode = lines[i][0]\n",
    "            backline = lines[i][1:]\n",
    "            if classcode == '0':\n",
    "                newline = lines[i]\n",
    "                newlines.append(newline)\n",
    "            elif classcode == '1':\n",
    "                pass\n",
    "            elif classcode == '2':\n",
    "                newline = '1'+backline\n",
    "                newlines.append(newline)\n",
    "            elif classcode == '3':\n",
    "                newline = '2'+backline\n",
    "                newlines.append(newline)\n",
    "            else:\n",
    "                pass\n",
    "        if len(newlines) != 0:\n",
    "            f2 = open(f'helmet/{txtfile}', 'w')\n",
    "            f2.writelines(newlines)\n",
    "            f2.close()\n",
    "        else:\n",
    "            pass\n",
    "    # 2. txt파일을 바탕으로 조건에 맞는 이미지파일 복사\n",
    "    newtxtList = glob('helmet/*.txt')\n",
    "    for newtxtfile in newtxtList:\n",
    "        newtxtname = newtxtfile.split('\\\\')[1].split('.')[0]\n",
    "        jpgname = newtxtname+'.jpg'\n",
    "        before= jpgname\n",
    "        target= f'helmet/{jpgname}'\n",
    "        try:\n",
    "            shutil.copyfile(before, target)\n",
    "        except:\n",
    "            print('error==>'+ item)"
   ]
  },
  {
   "cell_type": "markdown",
   "metadata": {},
   "source": [
    "## 2. 조끼가 포함된 자료들만 ( 0: person / 1: vest / 2 : novest)"
   ]
  },
  {
   "cell_type": "code",
   "execution_count": 83,
   "metadata": {},
   "outputs": [],
   "source": [
    "def vestperson(txtList):\n",
    "    # 1. 조건에 맞는 txt파일 만들기\n",
    "    for txtfile in txtList:\n",
    "        f = open(txtfile, 'r')\n",
    "        lines = f.readlines()\n",
    "        newlines = []\n",
    "        for i in range(len(lines)):\n",
    "            classcode = lines[i][:2]\n",
    "            backline = lines[i][2:]\n",
    "            if classcode == '0 ':\n",
    "                newline = lines[i]\n",
    "                newlines.append(newline)\n",
    "            elif classcode == '1 ':\n",
    "                newline = lines[i]\n",
    "                newlines.append(newline)\n",
    "            elif classcode == '4 ':\n",
    "                newline = '2 '+backline\n",
    "                newlines.append(newline)\n",
    "            else:\n",
    "                pass\n",
    "        if len(newlines) != 0:\n",
    "            f2 = open(f'vest/{txtfile}', 'w')\n",
    "            f2.writelines(newlines)\n",
    "            f2.close()\n",
    "        else:            \n",
    "            pass\n",
    "    # 2. txt파일을 바탕으로 조건에 맞는 이미지파일 복사\n",
    "    newtxtList = glob('vest/*.txt')\n",
    "    for newtxtfile in newtxtList:\n",
    "        newtxtname = newtxtfile.split('\\\\')[1].split('.')[0]\n",
    "        jpgname = newtxtname+'.jpg'\n",
    "        before= jpgname\n",
    "        target= f'vest/{jpgname}'\n",
    "        try:\n",
    "            shutil.copyfile(before, target)\n",
    "        except:\n",
    "            print('error==>'+ item)"
   ]
  },
  {
   "cell_type": "markdown",
   "metadata": {},
   "source": [
    "## 3. 사람 + 헬멧 동시에 포함하는 자료만"
   ]
  },
  {
   "cell_type": "code",
   "execution_count": 1,
   "metadata": {},
   "outputs": [],
   "source": [
    "def helmetonlyperson(txtList):\n",
    "# 1. 조건에 맞는 txt파일 만들기\n",
    "    for txtfile in txtList:\n",
    "        f = open(txtfile, 'r')\n",
    "        lines = f.readlines()\n",
    "        codes = []\n",
    "        for k in range(len(lines)): \n",
    "            code = lines[k][0]\n",
    "            codes.append(code)\n",
    "        codeset = set(codes)\n",
    "        print(codeset)\n",
    "        if {'0', '1'} < codeset or {'0', '2'} < codeset:\n",
    "            newlines = []\n",
    "            for i in range(len(lines)):\n",
    "                classcode = lines[i][0]\n",
    "                backline = lines[i][1:]\n",
    "                if classcode == '0':\n",
    "                    newline = lines[i]\n",
    "                    newlines.append(newline)\n",
    "                elif classcode == '1':\n",
    "                    newline = lines[i]\n",
    "                    newlines.append(newline)\n",
    "                else:\n",
    "                    newline = lines[i]\n",
    "                    newlines.append(newline)\n",
    "            f2 = open(f'helmetonlyperson/{txtfile}', 'w')\n",
    "            f2.writelines(newlines)\n",
    "            f2.close()\n",
    "        else:\n",
    "            pass\n",
    "    newtxtList = glob('helmetonlyperson/*.txt')\n",
    "    for newtxtfile in newtxtList:\n",
    "        newtxtname = newtxtfile.split('\\\\')[1].split('.')[0]\n",
    "        jpgname = newtxtname+'.jpg'\n",
    "        before= jpgname\n",
    "        target= f'helmetonlyperson/{jpgname}'\n",
    "        try:\n",
    "            shutil.copyfile(before, target)\n",
    "        except:\n",
    "            print('error==>'+ item)"
   ]
  },
  {
   "cell_type": "markdown",
   "metadata": {},
   "source": [
    "## 4. 사람 + 조끼 동시에 포함하는 자료만"
   ]
  },
  {
   "cell_type": "code",
   "execution_count": 16,
   "metadata": {},
   "outputs": [],
   "source": [
    "def vestonlyperson(txtList):\n",
    "    # 1. 조건에 맞는 txt파일 만들기\n",
    "    for txtfile in txtList:\n",
    "        f = open(txtfile, 'r')\n",
    "        lines = f.readlines()\n",
    "        codes = []\n",
    "        for k in range(len(lines)): \n",
    "            code = lines[k][0]\n",
    "            codes.append(code)\n",
    "        codeset = set(codes)\n",
    "        if {'0', '1'} < codeset or {'0', '2'} < codeset:\n",
    "            newlines = []\n",
    "            for i in range(len(lines)):\n",
    "                classcode = lines[i][0]\n",
    "                backline = lines[i][1:]\n",
    "                if classcode == '0':\n",
    "                    newline = lines[i]\n",
    "                    newlines.append(newline)\n",
    "                elif classcode == '1':\n",
    "                    newline = lines[i]\n",
    "                    newlines.append(newline)\n",
    "                else:\n",
    "                    newline = lines[i]\n",
    "                    newlines.append(newline)\n",
    "            f2 = open(f'vestonlyperson/{txtfile}', 'w')\n",
    "            f2.writelines(newlines)\n",
    "            f2.close()\n",
    "        else:\n",
    "            pass\n",
    "    newtxtList = glob('vestonlyperson/*.txt')\n",
    "    for newtxtfile in newtxtList:\n",
    "        newtxtname = newtxtfile.split('\\\\')[1].split('.')[0]\n",
    "        jpgname = newtxtname+'.jpg'\n",
    "        before= jpgname\n",
    "        target= f'vestonlyperson/{jpgname}'\n",
    "        try:\n",
    "            shutil.copyfile(before, target)\n",
    "        except:\n",
    "            print('error==>'+ item)"
   ]
  },
  {
   "cell_type": "markdown",
   "metadata": {},
   "source": [
    "# **3. 실행부분**"
   ]
  },
  {
   "cell_type": "code",
   "execution_count": null,
   "metadata": {},
   "outputs": [],
   "source": [
    "txtList = glob('vest/*.txt')    # txt 파일 있는 경로\n",
    "txtList"
   ]
  }
 ],
 "metadata": {
  "interpreter": {
   "hash": "d9b199ff34f70edd62d98a97be7eeb102c9bba51a62d8c2b56b122f7c6b12dc5"
  },
  "kernelspec": {
   "display_name": "Python 3.10.0 64-bit",
   "language": "python",
   "name": "python3"
  },
  "language_info": {
   "codemirror_mode": {
    "name": "ipython",
    "version": 3
   },
   "file_extension": ".py",
   "mimetype": "text/x-python",
   "name": "python",
   "nbconvert_exporter": "python",
   "pygments_lexer": "ipython3",
   "version": "3.10.0"
  },
  "orig_nbformat": 4
 },
 "nbformat": 4,
 "nbformat_minor": 2
}
